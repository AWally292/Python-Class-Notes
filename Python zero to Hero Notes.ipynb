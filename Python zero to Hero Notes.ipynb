{
 "cells": [
  {
   "cell_type": "code",
   "execution_count": null,
   "metadata": {},
   "outputs": [],
   "source": [
    "'''\n",
    "=======================================================================================================================================================\n",
    "                                                                  Notes Section\n",
    "=======================================================================================================================================================\n",
    "'''"
   ]
  },
  {
   "cell_type": "code",
   "execution_count": null,
   "metadata": {},
   "outputs": [],
   "source": [
    "1. Variables\n",
    "\n",
    "Variables are containers that store values. They can be assigned any value, such as strings, numbers, or other data types. In Python, variables are created when you assign a value to them, like this:\n",
    "\n",
    "x = 5\n",
    "name = \"John\"\n",
    "In this example, x is assigned the value 5, and name is assigned the string \"John\".\n",
    "\n",
    "\n",
    "\n",
    "\n",
    "2. Data Types\n",
    "\n",
    "In programming, data types refer to the kind of values that a variable can store. In Python, the most common data types are:\n",
    "\n",
    "int: an integer (e.g. 1, 2, 3)\n",
    "float: a floating-point number (e.g. 1.0, 2.5, 3.14)\n",
    "bool: a Boolean value (either True or False)\n",
    "str: a string (e.g. \"hello\", \"world\")\n",
    "You can determine the data type of a variable by using the type() function, like this:\n",
    "\n",
    "print(type(5))    # output: <class 'int'>\n",
    "print(type(2.5))  # output: <class 'float'>\n",
    "print(type(True)) # output: <class 'bool'>\n",
    "print(type(\"hello\")) # output: <class 'str'>\n",
    "\n",
    "\n",
    "\n",
    "\n",
    "3. Operators\n",
    "\n",
    "Operators are symbols or keywords that perform specific operations on variables or values. In Python, some of the most common operators include:\n",
    "\n",
    "Arithmetic operators: + (addition), - (subtraction), * (multiplication), / (division), % (modulus), ** (exponentiation)\n",
    "\n",
    "Comparison operators: == (equal to), != (not equal to), < (less than), > (greater than), <= (less than or equal to), >= (greater than or equal to)\n",
    "\n",
    "Logical operators: and (logical AND), or (logical OR), not (logical NOT)\n",
    "\n",
    "Here's an example of using operators in Python:\n",
    "\n",
    "x = 5\n",
    "y = 2\n",
    "print(x + y)      # output: 7\n",
    "print(x > y)      # output: True\n",
    "print(x == 5 and y == 2)  # output: True\n",
    "\n",
    "\n",
    "4. Loops\n",
    "Loops are used to execute a block of code repeatedly. In Python, there are two types of loops:\n",
    "\n",
    "for loop: used to iterate over a sequence (such as a list or string)\n",
    "\n",
    "fruits = [\"apple\", \"banana\", \"cherry\"]\n",
    "for fruit in fruits:\n",
    "    print(fruit)\n",
    "This code will output:\n",
    "\n",
    "apple\n",
    "banana\n",
    "cherry\n",
    "\n",
    "\n",
    "while loop: used to execute a block of code as long as a certain condition is true\n",
    "\n",
    "i = 0\n",
    "while i < 5:\n",
    "    print(i)\n",
    "    i += 1\n",
    "This code will output:\n",
    "\n",
    "0\n",
    "1\n",
    "2\n",
    "3\n",
    "4"
   ]
  },
  {
   "cell_type": "code",
   "execution_count": null,
   "metadata": {},
   "outputs": [],
   "source": [
    "######### Modulus   ############\n",
    "#    Modulus = the remainder\n",
    "# var = 10 % 6\n",
    "# print (10 % 2)\n",
    "\n",
    "\n",
    "i = 10\n",
    "y = 3\n",
    "x = i % y\n",
    "\n",
    "f\"the remainder of {i} divided by {y} = {x}\""
   ]
  },
  {
   "cell_type": "code",
   "execution_count": null,
   "metadata": {},
   "outputs": [],
   "source": [
    "'''\n",
    "=======================================================================================================================================================\n",
    "                                                                  PYCore Challenges\n",
    "=======================================================================================================================================================\n",
    "'''"
   ]
  },
  {
   "cell_type": "code",
   "execution_count": 2,
   "metadata": {},
   "outputs": [],
   "source": [
    "'''01 - Python Activity'''\n",
    "'''Use python to produce code below that will create several named variables with the specified value:\n",
    "\n",
    "Identifier\t            Value\tType\n",
    "hello\t                hello\tstring\n",
    "is_python_awesome\t    true\tboolean\n",
    "days_in_python\t        6\t    integer\n",
    "pie_size\t            3.14\tfloat\n",
    "\n",
    "NOTE: Do not indent your code'''\n",
    "\n",
    "hello = \"hello\"         # create a string variable with value \"hello\"\n",
    "is_python_awesome = True    # create a boolean variable with value True\n",
    "days_in_python = 6       # create an integer variable with value 6\n",
    "pie_size = 3.14         # create a float variable with value 3.14\n",
    "\n",
    "\n",
    "'''Google Search Terms: \" \" '''\n",
    "\n",
    "'''Websites:  '''\n",
    "\n",
    "'''Key words:  '''"
   ]
  },
  {
   "cell_type": "code",
   "execution_count": null,
   "metadata": {},
   "outputs": [],
   "source": [
    "'''02 - Python Activity'''\n",
    "'''Use Python to produce code below that will convert the provided literal (\"Starting Value\"), convert it to the indicated data type by using the appropriate Python Built-in Function(s), and assign the output to the named variable as designated below.'''\n",
    "\n",
    "\n",
    "int_input = int(\"345\")      # Convert the string \"345\" to an integer and assign it to the variable int_input\n",
    "pi_4 = float(\"3.1415\")      # Convert the string \"3.1415\" to a float and assign it to the variable pi_4\n",
    "hours_str = str(40)         # Convert the integer 40 to a string and assign it to the variable hours_str\n",
    "hourly_rate = float(15)     # Convert the integer 15 to a float and assign it to the variable hourly_rate\n",
    "\n",
    "'''Google Search Terms: \" \" '''\n",
    "\n",
    "'''Websites:  '''\n",
    "\n",
    "'''Key words:  '''"
   ]
  },
  {
   "cell_type": "code",
   "execution_count": null,
   "metadata": {},
   "outputs": [],
   "source": [
    "'''03 - Python Activity'''\n",
    "'''Use python to produce code below that will create several named variables with the specified value using math operators:\n",
    "\n",
    "Identifier\t    Value\t                            Type\n",
    "x\t            16\t                                integer\n",
    "y\t            3\t                                integer\n",
    "xysum\t        sum of x and y\t                    integer\n",
    "xydiff\t        difference of x and y\t            integer\n",
    "xyprod\t        product of x and y\t                integer\n",
    "xyquo\t        quotient of x and y\t                float\n",
    "xyintquo\t    integer quotient of x and y\t        integer\n",
    "xymod\t        modulus of x and y\t                integer\n",
    "\n",
    "NOTE: Do not indent your code'''\n",
    "\n",
    "\n",
    "x = 16                  # assign the value 16 to variable x\n",
    "y = 3                   # assign the value 3 to variable y\n",
    "xysum = x + y           # calculate the sum of x and y, and assign the result to variable xysum\n",
    "xydiff = x - y          # calculate the difference between x and y, and assign the result to variable xydiff\n",
    "xyprod = x * y          # calculate the product of x and y, and assign the result to variable xyprod\n",
    "xyquo = x / y           # calculate the quotient of x and y, and assign the result to variable xyquo\n",
    "xyintquo = x // y       # calculate the integer quotient of x and y (floor division), and assign the result to variable xyintquo\n",
    "xymod = x % y           # calculate the modulus of x and y, and assign the result to variable xymod\n",
    "\n",
    "\n",
    "'''Google Search Terms: \" \" '''\n",
    "\n",
    "'''Websites:  '''\n",
    "\n",
    "'''Key words:  '''"
   ]
  },
  {
   "cell_type": "code",
   "execution_count": 3,
   "metadata": {},
   "outputs": [
    {
     "data": {
      "text/plain": [
       "'Key words:  '"
      ]
     },
     "execution_count": 3,
     "metadata": {},
     "output_type": "execute_result"
    }
   ],
   "source": [
    "'''04 - Python Activity'''\n",
    "'''Use python to produce code below that will create several named variables with the specified value using the str.format member function. You may assign any value for the variables other than output. The output variable must use the same boilerplate text and include the appropriate values assigned to the first three.'''\n",
    "'''\n",
    "Identifier\t    Example Value\t                                        Type\n",
    "name\t        Jerry\t                                                str\n",
    "greeting\t    Sir\t                                                    str\n",
    "time\t        noon\t                                                str\n",
    "output\t        Hello Jerry! Sir, will you be arriving by noon?\t        str\n",
    "\n",
    "NOTE: Do not indent your code'''\n",
    "\n",
    "\n",
    "name = 'Jerry'  # assign 'Jerry' to the variable name\n",
    "greeting = 'Sir'  # assign 'Sir' to the variable greeting\n",
    "time = 'noon'  # assign 'noon' to the variable time\n",
    "output = f\"Hello {name}! {greeting}, will you be arriving by {time}?\" # Use f-strings to create the output string with the values of the variables\n",
    "\n",
    "\n",
    "'''Google Search Terms: \"\" '''\n",
    "\n",
    "'''Websites:  '''\n",
    "\n",
    "'''Key words:  '''"
   ]
  },
  {
   "cell_type": "code",
   "execution_count": null,
   "metadata": {},
   "outputs": [],
   "source": [
    "'''05 - Python Activity'''\n",
    "'''Use python to produce code below that will perform the following:\n",
    "\n",
    "Create a variable named sentence and assign the value 'good for all'\n",
    "Turn the sentence variable into a list of individual characters and assign this to a variable named sent_list.\n",
    "Change the first (index 0) character in the list to 'f'\n",
    "Change the last (index -1) character in the list to '?'\n",
    "Combine the list into a new string with periods ('.') in between each character and assign the result to a new variable named output.\n",
    "\n",
    "NOTE: Do not indent your code'''\n",
    "\n",
    "\n",
    "# Create a variable called 'sentence' and assign the string 'good for all' to it\n",
    "sentence = 'good for all'\n",
    "\n",
    "# Convert the string into a list of individual characters and assign it to a new variable called 'sent_list'\n",
    "sent_list = list(sentence)\n",
    "\n",
    "# Change the first character of the list to 'f'\n",
    "sent_list[0] = 'f'\n",
    "\n",
    "# Change the last character of the list to '?'\n",
    "sent_list[-1] = '?'\n",
    "\n",
    "# Combine the list into a new string with periods between each character and assign it to a new variable called 'output'\n",
    "output = '.'.join(sent_list)\n",
    "\n",
    "print(output)\n",
    "\n",
    "'''Google Search Terms: \"\" '''\n",
    "\n",
    "'''Websites:  '''\n",
    "\n",
    "'''Key words:  '''"
   ]
  },
  {
   "cell_type": "code",
   "execution_count": null,
   "metadata": {},
   "outputs": [],
   "source": [
    "'''00 - Mailbox Maintenance'''\n",
    "'''Use python to produce code below that will:\n",
    "\n",
    "Given an email address in email\n",
    "Convert the email into a list named `lst'\n",
    "The list will contain all individual parts of the email\n",
    "Example: email = 'alan.m.turing@genius.com' -> lst = ['alan','m','turing', 'genius', 'com']\n",
    "NOTE: A variable named email will be available to your code when running.\n",
    "NOTE: You must create a variable named lst which contains the required data.\n",
    "NOTE: Do not indent your code'''\n",
    "\n",
    "#replaces the \"@\" character with a \".\" character, then splits the resulting string by \".\" to create a list of substrings.\n",
    "\n",
    "lst = email.replace(\"@\", \".\").split(\".\")\n",
    "\n",
    "'''Google Search Terms: \"\" '''\n",
    "\n",
    "'''Websites:  '''\n",
    "\n",
    "'''Key words:  '''"
   ]
  },
  {
   "cell_type": "code",
   "execution_count": null,
   "metadata": {},
   "outputs": [],
   "source": [
    "'''06 - Python Activity'''\n",
    "'''Use python to produce code below that will perform the following:\n",
    "\n",
    "Read multiple numbers separated by spaces on the same line from the user.\n",
    "Change all spaces to a plus sign.\n",
    "Print the resulting string to the user.\n",
    "NOTE: Do not indent your code'''\n",
    "\n",
    "\n",
    "user_input = input(\"Enter Numbers\") # read input from user and store in variable named user_input\n",
    "print(user_input.replace(\" \", \"+\")) # replace all spaces with plus sign in the user_input and print\n",
    "\n",
    "\n",
    "'''Google Search Terms: \"\" '''\n",
    "\n",
    "'''Websites:  '''\n",
    "\n",
    "'''Key words:  '''"
   ]
  },
  {
   "cell_type": "code",
   "execution_count": null,
   "metadata": {},
   "outputs": [],
   "source": [
    "'''07 - Python Activity'''\n",
    "'''Use python to produce code below that will perform the following:\n",
    "\n",
    "Read input from the user, the input will be an integer.\n",
    "Determine which of the following categories the number fits into an print this to the user:\n",
    "Negative Even\n",
    "Negative Odd\n",
    "Zero\n",
    "Positive Even\n",
    "Positive Odd'''\n",
    "\n",
    "# read an integer from user\n",
    "num = int(input(\"Enter an integer: \"))\n",
    "\n",
    "# check if the number is zero\n",
    "if num == 0:\n",
    "    print(\"Zero\")\n",
    "\n",
    "# check if the number is negative and even\n",
    "elif num < 0 and num % 2 == 0:\n",
    "    print(\"Negative Even\")\n",
    "\n",
    "# check if the number is negative and odd\n",
    "elif num < 0 and num % 2 != 0:\n",
    "    print(\"Negative Odd\")\n",
    "\n",
    "# check if the number is positive and even\n",
    "elif num > 0 and num % 2 == 0:\n",
    "    print(\"Positive Even\")\n",
    "\n",
    "# check if the number is positive and odd\n",
    "else:\n",
    "    print(\"Positive Odd\")\n",
    "\n",
    "\n",
    "\n",
    "'''Google Search Terms: \"\" '''\n",
    "\n",
    "'''Websites:  '''\n",
    "\n",
    "'''Key words:  '''"
   ]
  },
  {
   "cell_type": "code",
   "execution_count": null,
   "metadata": {},
   "outputs": [],
   "source": [
    "'''02 - Python Activity'''\n",
    "'''Use Python to produce code below that will convert the provided literal (\"Starting Value\"), convert it to the indicated data type by using the appropriate Python Built-in Function(s), and assign the output to the named variable as designated below.'''\n",
    "\n",
    "\n",
    "\n",
    "\n",
    "'''Google Search Terms: \"\" '''\n",
    "\n",
    "'''Websites:  '''\n",
    "\n",
    "'''Key words:  '''"
   ]
  },
  {
   "cell_type": "code",
   "execution_count": null,
   "metadata": {},
   "outputs": [],
   "source": [
    "'''02 - Python Activity'''\n",
    "'''Use Python to produce code below that will convert the provided literal (\"Starting Value\"), convert it to the indicated data type by using the appropriate Python Built-in Function(s), and assign the output to the named variable as designated below.'''\n",
    "\n",
    "\n",
    "\n",
    "\n",
    "'''Google Search Terms: \"\" '''\n",
    "\n",
    "'''Websites:  '''\n",
    "\n",
    "'''Key words:  '''"
   ]
  },
  {
   "cell_type": "code",
   "execution_count": null,
   "metadata": {},
   "outputs": [],
   "source": [
    "'''02 - Python Activity'''\n",
    "'''Use Python to produce code below that will convert the provided literal (\"Starting Value\"), convert it to the indicated data type by using the appropriate Python Built-in Function(s), and assign the output to the named variable as designated below.'''\n",
    "\n",
    "\n",
    "\n",
    "\n",
    "'''Google Search Terms: \"\" '''\n",
    "\n",
    "'''Websites:  '''\n",
    "\n",
    "'''Key words:  '''"
   ]
  },
  {
   "cell_type": "code",
   "execution_count": null,
   "metadata": {},
   "outputs": [],
   "source": [
    "'''02 - Python Activity'''\n",
    "'''Use Python to produce code below that will convert the provided literal (\"Starting Value\"), convert it to the indicated data type by using the appropriate Python Built-in Function(s), and assign the output to the named variable as designated below.'''\n",
    "\n",
    "\n",
    "\n",
    "\n",
    "'''Google Search Terms: \"\" '''\n",
    "\n",
    "'''Websites:  '''\n",
    "\n",
    "'''Key words:  '''"
   ]
  },
  {
   "cell_type": "code",
   "execution_count": null,
   "metadata": {},
   "outputs": [],
   "source": [
    "'''02 - Python Activity'''\n",
    "'''Use Python to produce code below that will convert the provided literal (\"Starting Value\"), convert it to the indicated data type by using the appropriate Python Built-in Function(s), and assign the output to the named variable as designated below.'''\n",
    "\n",
    "\n",
    "\n",
    "\n",
    "'''Google Search Terms: \"\" '''\n",
    "\n",
    "'''Websites:  '''\n",
    "\n",
    "'''Key words:  '''"
   ]
  },
  {
   "cell_type": "code",
   "execution_count": null,
   "metadata": {},
   "outputs": [],
   "source": [
    "'''02 - Python Activity'''\n",
    "'''Use Python to produce code below that will convert the provided literal (\"Starting Value\"), convert it to the indicated data type by using the appropriate Python Built-in Function(s), and assign the output to the named variable as designated below.'''\n",
    "\n",
    "\n",
    "\n",
    "\n",
    "'''Google Search Terms: \"\" '''\n",
    "\n",
    "'''Websites:  '''\n",
    "\n",
    "'''Key words:  '''"
   ]
  },
  {
   "cell_type": "code",
   "execution_count": null,
   "metadata": {},
   "outputs": [],
   "source": [
    "'''02 - Python Activity'''\n",
    "'''Use Python to produce code below that will convert the provided literal (\"Starting Value\"), convert it to the indicated data type by using the appropriate Python Built-in Function(s), and assign the output to the named variable as designated below.'''\n",
    "\n",
    "\n",
    "\n",
    "\n",
    "'''Google Search Terms: \"\" '''\n",
    "\n",
    "'''Websites:  '''\n",
    "\n",
    "'''Key words:  '''"
   ]
  },
  {
   "cell_type": "code",
   "execution_count": null,
   "metadata": {},
   "outputs": [],
   "source": [
    "'''02 - Python Activity'''\n",
    "'''Use Python to produce code below that will convert the provided literal (\"Starting Value\"), convert it to the indicated data type by using the appropriate Python Built-in Function(s), and assign the output to the named variable as designated below.'''\n",
    "\n",
    "\n",
    "\n",
    "\n",
    "'''Google Search Terms: \"\" '''\n",
    "\n",
    "'''Websites:  '''\n",
    "\n",
    "'''Key words:  '''"
   ]
  },
  {
   "cell_type": "code",
   "execution_count": null,
   "metadata": {},
   "outputs": [],
   "source": [
    "'''02 - Python Activity'''\n",
    "'''Use Python to produce code below that will convert the provided literal (\"Starting Value\"), convert it to the indicated data type by using the appropriate Python Built-in Function(s), and assign the output to the named variable as designated below.'''\n",
    "\n",
    "\n",
    "\n",
    "\n",
    "'''Google Search Terms: \"\" '''\n",
    "\n",
    "'''Websites:  '''\n",
    "\n",
    "'''Key words:  '''"
   ]
  },
  {
   "cell_type": "code",
   "execution_count": null,
   "metadata": {},
   "outputs": [],
   "source": [
    "'''02 - Python Activity'''\n",
    "'''Use Python to produce code below that will convert the provided literal (\"Starting Value\"), convert it to the indicated data type by using the appropriate Python Built-in Function(s), and assign the output to the named variable as designated below.'''\n",
    "\n",
    "\n",
    "\n",
    "\n",
    "'''Google Search Terms: \"\" '''\n",
    "\n",
    "'''Websites:  '''\n",
    "\n",
    "'''Key words:  '''"
   ]
  },
  {
   "cell_type": "code",
   "execution_count": null,
   "metadata": {},
   "outputs": [],
   "source": [
    "'''02 - Python Activity'''\n",
    "'''Use Python to produce code below that will convert the provided literal (\"Starting Value\"), convert it to the indicated data type by using the appropriate Python Built-in Function(s), and assign the output to the named variable as designated below.'''\n",
    "\n",
    "\n",
    "\n",
    "\n",
    "'''Google Search Terms: \"\" '''\n",
    "\n",
    "'''Websites:  '''\n",
    "\n",
    "'''Key words:  '''"
   ]
  },
  {
   "cell_type": "code",
   "execution_count": null,
   "metadata": {},
   "outputs": [],
   "source": [
    "'''02 - Python Activity'''\n",
    "'''Use Python to produce code below that will convert the provided literal (\"Starting Value\"), convert it to the indicated data type by using the appropriate Python Built-in Function(s), and assign the output to the named variable as designated below.'''\n",
    "\n",
    "\n",
    "\n",
    "\n",
    "'''Google Search Terms: \"\" '''\n",
    "\n",
    "'''Websites:  '''\n",
    "\n",
    "'''Key words:  '''"
   ]
  },
  {
   "cell_type": "code",
   "execution_count": null,
   "metadata": {},
   "outputs": [],
   "source": [
    "'''02 - Python Activity'''\n",
    "'''Use Python to produce code below that will convert the provided literal (\"Starting Value\"), convert it to the indicated data type by using the appropriate Python Built-in Function(s), and assign the output to the named variable as designated below.'''\n",
    "\n",
    "\n",
    "\n",
    "\n",
    "'''Google Search Terms: \"\" '''\n",
    "\n",
    "'''Websites:  '''\n",
    "\n",
    "'''Key words:  '''"
   ]
  },
  {
   "cell_type": "code",
   "execution_count": null,
   "metadata": {},
   "outputs": [],
   "source": [
    "'''02 - Python Activity'''\n",
    "'''Use Python to produce code below that will convert the provided literal (\"Starting Value\"), convert it to the indicated data type by using the appropriate Python Built-in Function(s), and assign the output to the named variable as designated below.'''\n",
    "\n",
    "\n",
    "\n",
    "\n",
    "'''Google Search Terms: \"\" '''\n",
    "\n",
    "'''Websites:  '''\n",
    "\n",
    "'''Key words:  '''"
   ]
  },
  {
   "cell_type": "code",
   "execution_count": null,
   "metadata": {},
   "outputs": [],
   "source": [
    "'''02 - Python Activity'''\n",
    "'''Use Python to produce code below that will convert the provided literal (\"Starting Value\"), convert it to the indicated data type by using the appropriate Python Built-in Function(s), and assign the output to the named variable as designated below.'''\n",
    "\n",
    "\n",
    "\n",
    "\n",
    "'''Google Search Terms: \"\" '''\n",
    "\n",
    "'''Websites:  '''\n",
    "\n",
    "'''Key words:  '''"
   ]
  },
  {
   "cell_type": "code",
   "execution_count": null,
   "metadata": {},
   "outputs": [],
   "source": [
    "'''02 - Python Activity'''\n",
    "'''Use Python to produce code below that will convert the provided literal (\"Starting Value\"), convert it to the indicated data type by using the appropriate Python Built-in Function(s), and assign the output to the named variable as designated below.'''\n",
    "\n",
    "\n",
    "\n",
    "\n",
    "'''Google Search Terms: \"\" '''\n",
    "\n",
    "'''Websites:  '''\n",
    "\n",
    "'''Key words:  '''"
   ]
  },
  {
   "cell_type": "code",
   "execution_count": null,
   "metadata": {},
   "outputs": [],
   "source": [
    "'''02 - Python Activity'''\n",
    "'''Use Python to produce code below that will convert the provided literal (\"Starting Value\"), convert it to the indicated data type by using the appropriate Python Built-in Function(s), and assign the output to the named variable as designated below.'''\n",
    "\n",
    "\n",
    "\n",
    "\n",
    "'''Google Search Terms: \"\" '''\n",
    "\n",
    "'''Websites:  '''\n",
    "\n",
    "'''Key words:  '''"
   ]
  },
  {
   "cell_type": "code",
   "execution_count": null,
   "metadata": {},
   "outputs": [],
   "source": [
    "'''02 - Python Activity'''\n",
    "'''Use Python to produce code below that will convert the provided literal (\"Starting Value\"), convert it to the indicated data type by using the appropriate Python Built-in Function(s), and assign the output to the named variable as designated below.'''\n",
    "\n",
    "\n",
    "\n",
    "\n",
    "'''Google Search Terms: \"\" '''\n",
    "\n",
    "'''Websites:  '''\n",
    "\n",
    "'''Key words:  '''"
   ]
  },
  {
   "cell_type": "code",
   "execution_count": null,
   "metadata": {},
   "outputs": [],
   "source": [
    "'''02 - Python Activity'''\n",
    "'''Use Python to produce code below that will convert the provided literal (\"Starting Value\"), convert it to the indicated data type by using the appropriate Python Built-in Function(s), and assign the output to the named variable as designated below.'''\n",
    "\n",
    "\n",
    "\n",
    "\n",
    "'''Google Search Terms: \"\" '''\n",
    "\n",
    "'''Websites:  '''\n",
    "\n",
    "'''Key words:  '''"
   ]
  },
  {
   "cell_type": "code",
   "execution_count": null,
   "metadata": {},
   "outputs": [],
   "source": [
    "'''02 - Python Activity'''\n",
    "'''Use Python to produce code below that will convert the provided literal (\"Starting Value\"), convert it to the indicated data type by using the appropriate Python Built-in Function(s), and assign the output to the named variable as designated below.'''\n",
    "\n",
    "\n",
    "\n",
    "\n",
    "'''Google Search Terms: \"\" '''\n",
    "\n",
    "'''Websites:  '''\n",
    "\n",
    "'''Key words:  '''"
   ]
  },
  {
   "cell_type": "code",
   "execution_count": null,
   "metadata": {},
   "outputs": [],
   "source": [
    "'''02 - Python Activity'''\n",
    "'''Use Python to produce code below that will convert the provided literal (\"Starting Value\"), convert it to the indicated data type by using the appropriate Python Built-in Function(s), and assign the output to the named variable as designated below.'''\n",
    "\n",
    "\n",
    "\n",
    "\n",
    "'''Google Search Terms: \"\" '''\n",
    "\n",
    "'''Websites:  '''\n",
    "\n",
    "'''Key words:  '''"
   ]
  },
  {
   "cell_type": "code",
   "execution_count": null,
   "metadata": {},
   "outputs": [],
   "source": [
    "'''02 - Python Activity'''\n",
    "'''Use Python to produce code below that will convert the provided literal (\"Starting Value\"), convert it to the indicated data type by using the appropriate Python Built-in Function(s), and assign the output to the named variable as designated below.'''\n",
    "\n",
    "\n",
    "\n",
    "\n",
    "'''Google Search Terms: \"\" '''\n",
    "\n",
    "'''Websites:  '''\n",
    "\n",
    "'''Key words:  '''"
   ]
  },
  {
   "cell_type": "code",
   "execution_count": null,
   "metadata": {},
   "outputs": [],
   "source": [
    "'''02 - Python Activity'''\n",
    "'''Use Python to produce code below that will convert the provided literal (\"Starting Value\"), convert it to the indicated data type by using the appropriate Python Built-in Function(s), and assign the output to the named variable as designated below.'''\n",
    "\n",
    "\n",
    "\n",
    "\n",
    "'''Google Search Terms: \"\" '''\n",
    "\n",
    "'''Websites:  '''\n",
    "\n",
    "'''Key words:  '''"
   ]
  },
  {
   "cell_type": "code",
   "execution_count": null,
   "metadata": {},
   "outputs": [],
   "source": [
    "'''02 - Python Activity'''\n",
    "'''Use Python to produce code below that will convert the provided literal (\"Starting Value\"), convert it to the indicated data type by using the appropriate Python Built-in Function(s), and assign the output to the named variable as designated below.'''\n",
    "\n",
    "\n",
    "\n",
    "\n",
    "'''Google Search Terms: \"\" '''\n",
    "\n",
    "'''Websites:  '''\n",
    "\n",
    "'''Key words:  '''"
   ]
  },
  {
   "cell_type": "code",
   "execution_count": null,
   "metadata": {},
   "outputs": [],
   "source": [
    "'''02 - Python Activity'''\n",
    "'''Use Python to produce code below that will convert the provided literal (\"Starting Value\"), convert it to the indicated data type by using the appropriate Python Built-in Function(s), and assign the output to the named variable as designated below.'''\n",
    "\n",
    "\n",
    "\n",
    "\n",
    "'''Google Search Terms: \"\" '''\n",
    "\n",
    "'''Websites:  '''\n",
    "\n",
    "'''Key words:  '''"
   ]
  },
  {
   "cell_type": "code",
   "execution_count": null,
   "metadata": {},
   "outputs": [],
   "source": [
    "'''02 - Python Activity'''\n",
    "'''Use Python to produce code below that will convert the provided literal (\"Starting Value\"), convert it to the indicated data type by using the appropriate Python Built-in Function(s), and assign the output to the named variable as designated below.'''\n",
    "\n",
    "\n",
    "\n",
    "\n",
    "'''Google Search Terms: \"\" '''\n",
    "\n",
    "'''Websites:  '''\n",
    "\n",
    "'''Key words:  '''"
   ]
  },
  {
   "cell_type": "code",
   "execution_count": null,
   "metadata": {},
   "outputs": [],
   "source": [
    "'''02 - Python Activity'''\n",
    "'''Use Python to produce code below that will convert the provided literal (\"Starting Value\"), convert it to the indicated data type by using the appropriate Python Built-in Function(s), and assign the output to the named variable as designated below.'''\n",
    "\n",
    "\n",
    "\n",
    "\n",
    "'''Google Search Terms: \"\" '''\n",
    "\n",
    "'''Websites:  '''\n",
    "\n",
    "'''Key words:  '''"
   ]
  },
  {
   "cell_type": "code",
   "execution_count": null,
   "metadata": {},
   "outputs": [],
   "source": [
    "'''02 - Python Activity'''\n",
    "'''Use Python to produce code below that will convert the provided literal (\"Starting Value\"), convert it to the indicated data type by using the appropriate Python Built-in Function(s), and assign the output to the named variable as designated below.'''\n",
    "\n",
    "\n",
    "\n",
    "\n",
    "'''Google Search Terms: \"\" '''\n",
    "\n",
    "'''Websites:  '''\n",
    "\n",
    "'''Key words:  '''"
   ]
  },
  {
   "cell_type": "code",
   "execution_count": null,
   "metadata": {},
   "outputs": [],
   "source": [
    "'''\n",
    "=======================================================================================================================================================\n",
    "                                                                  Practice Test 2\n",
    "=======================================================================================================================================================\n",
    "'''"
   ]
  },
  {
   "cell_type": "code",
   "execution_count": null,
   "metadata": {},
   "outputs": [],
   "source": [
    "'''01 - Mirror mirror'''\n",
    "'''Given a string of multiple words separated by single spaces, return a new string with the sentence reversed. The words themselves should remain as they are.'''\n",
    "'''For example, given 'it is accepted as a masterpiece on strategy', the returned string should be 'strategy on masterpiece a as accepted is it'.'''\n",
    "\n",
    "\n",
    "def q1(sentence): #creating my function container, using \"sentence\" as the parameter holding the argument\n",
    "    lst = sentence.split()  #splitting the words in the sentence variable into a list\n",
    "    rev = lst[::-1] #reverse the entry order of list\n",
    "    return \" \".join(rev)\n",
    "q1(\"it is accepted as a masterpiece on strategy\")\n",
    "\n",
    "#should look like strategy on masterpiece a as accepted is it\n",
    "#returning a new string w/ sentence reverse\n",
    "#BUT the words shouldn't be backwards\n",
    "\n",
    "\n"
   ]
  },
  {
   "cell_type": "code",
   "execution_count": 17,
   "metadata": {},
   "outputs": [
    {
     "data": {
      "text/plain": [
       "'strategy on masterpiece a as accepted is it'"
      ]
     },
     "execution_count": 17,
     "metadata": {},
     "output_type": "execute_result"
    }
   ],
   "source": [
    "'''01 - Mirror mirror - Alternative Method that I like'''\n",
    "'''Given a string of multiple words separated by single spaces, return a new string with the sentence reversed. The words themselves should remain as they are.'''\n",
    "'''For example, given 'it is accepted as a masterpiece on strategy', the returned string should be 'strategy on masterpiece a as accepted is it'.'''\n",
    "\n",
    "def q1(sentence):\n",
    "\n",
    "    # split the sentence into a list of words\n",
    "    words = sentence.split()\n",
    "\n",
    "    # reverse the order of the words\n",
    "    words.reverse()\n",
    "\n",
    "    # join the reversed words into a new sentence\n",
    "    reversed_sentence = \" \".join(words)\n",
    "\n",
    "    return reversed_sentence\n",
    "\n",
    "q1(\"it is accepted as a masterpiece on strategy\")\n",
    "\n",
    "# '''Google Search Terms: \"python reverse a sentence\" '''\n",
    "\n",
    "# '''Websites:  https://www.codespeedy.com/reverse-words-in-a-given-string-in-python/  '''\n",
    "\n",
    "# '''Key words: python reverse the words a sentence string , .reverse  '''\n",
    "\n",
    "\n"
   ]
  },
  {
   "cell_type": "code",
   "execution_count": null,
   "metadata": {},
   "outputs": [],
   "source": [
    "'''02 - Sprinkle some commas in there'''\n",
    "'''Given a positive integer, return its string representation with commas separating groups of 3 digits.'''\n",
    "\n",
    "\n",
    "def q1(n): #creating my function with a parameter as \"n\"\n",
    "    return f\"{n:,}\" #returning n with commas using innate python....don't ask...don't know\n",
    "q1(65535)\n",
    "\n",
    "\n",
    "\n",
    " #NOTE:   f\"{n:.2f}\" use .2f or .5f will make it a float and the number defines how many decimals out it goes\n",
    "\n",
    "# '''Google Search Terms: \"python return string with commas in numbers\" '''\n",
    "\n",
    "# '''Websites:  https://www.geeksforgeeks.org/print-number-commas-1000-separators-python/  '''\n",
    "\n",
    "# '''Key words: comma separate commas '''"
   ]
  },
  {
   "cell_type": "code",
   "execution_count": null,
   "metadata": {},
   "outputs": [],
   "source": [
    "'''03 - Bring it together and make it pretty'''\n",
    "'''Given two lists of integers, return a sorted list that contains all integers from both lists in descending order.'''\n",
    "\n",
    "\n",
    "def q1(lst0, lst1): #create my function with two parameters to be filled by the call\n",
    "    lst2 = lst0 + lst1 #combine two lists...simple\n",
    "    lst2.sort(reverse=True)\n",
    "    print(lst2)\n",
    "\n",
    "q1([3,4,9],[8,1,5])\n",
    "\n",
    "\n",
    "#should look like [9,8,5,4,3,1]\n",
    "#Combine two lists together\n",
    "#reorder the combined list in descending order\n",
    "\n",
    "# '''Google Search Terms: \"python sort list in descending order\" '''\n",
    "\n",
    "# '''Websites:  https://www.geeksforgeeks.org/python-list-sort-method/   '''\n",
    "\n",
    "# '''Key words:  '''"
   ]
  },
  {
   "cell_type": "code",
   "execution_count": null,
   "metadata": {},
   "outputs": [],
   "source": [
    "'''04 - Pass GO and collect $200'''\n",
    "'''Given 3 scores in the range [0-100] inclusive, return 'GO' if the average score is greater than 50. Otherwise return 'NOGO'.'''\n",
    "\n",
    "def q1(s1,s2,s3):\n",
    "\n",
    "    avg = (s1 + s2 + s3) / 3 # Calculate the average of the three scores\n",
    "\n",
    "    # Check if the average is greater than 50 and return 'GO' or 'NOGO' accordingly\n",
    "    if avg > 50:\n",
    "        return \"GO\"\n",
    "    else:\n",
    "        return \"NOGO\"\n",
    "\n",
    "\n",
    "q1()\n",
    "\n",
    "\n",
    "# '''Google Search Terms: \"python find the average of a set of numbers\" '''\n",
    "\n",
    "# '''Websites:  https://www.geeksforgeeks.org/python-list-sort-method/   '''\n",
    "\n",
    "# '''Key words:  find average, '''"
   ]
  },
  {
   "cell_type": "code",
   "execution_count": 2,
   "metadata": {},
   "outputs": [
    {
     "data": {
      "text/plain": [
       "[0, 6, 12, 18, 24, 30]"
      ]
     },
     "execution_count": 2,
     "metadata": {},
     "output_type": "execute_result"
    }
   ],
   "source": [
    "'''05 - 50ccs of multiples, stat!'''\n",
    "'''Given an integer and limit, return a list of even multiples of the integer up to and including the limit.'''\n",
    "'''For example, if integer = 3 and limit = 30, the returned list should be [0,6,12,18,24,30]. Note, 0 is a multiple of any integer except 0 itself.'''\n",
    "\n",
    "def q1(integer, limit):\n",
    "    lst=[] #Create an empty list to fill, this stores the even multiples of integer\n",
    " \n",
    "    for i in range(0, limit+1, integer*2): #for loop to iterate from 0 up to the limit, counting in steps of the integer *2. the multiplication of 2 means you can never have anything other than an even multiple of the integer.\n",
    "        lst.append(i) #each iteration appends the list with the value of i\n",
    "    return lst # return the completed list\n",
    "\n",
    "q1(3, 30)\n",
    "\n",
    "#should look like [0,6,12,18,24,30]\n",
    "#return a list of even multiples of the integer variable stopping at the limit variable\n",
    "\n",
    "\n",
    "\n",
    "# '''Google Search Terms: \"return list of multiples of an integer up to a given limit\" '''\n",
    "\n",
    "# '''Websites:  https://stackoverflow.com/questions/69405984/how-to-find-multiples-of-a-number-in-a-range-without-loop   '''\n",
    "\n",
    "# '''Key words:  find average, '''"
   ]
  },
  {
   "cell_type": "code",
   "execution_count": 5,
   "metadata": {},
   "outputs": [
    {
     "data": {
      "text/plain": [
       "7"
      ]
     },
     "execution_count": 5,
     "metadata": {},
     "output_type": "execute_result"
    }
   ],
   "source": [
    "'''07 - Is this the imposter'''\n",
    "'''As you iterate through the given list, return the first duplicate value you come across.\n",
    "For example, if given [5,7,9,1,3,7,9,5], the returned value should be 7.'''\n",
    "\n",
    "\n",
    "def q1(lst):\n",
    "    dup = set()  #make a set to fill in from the list\n",
    "    for i in lst: # for every indext position in the given list\n",
    "        if i in dup: # if the indexed position is in the dup set\n",
    "            return i # return the number of the indexed position\n",
    "        else:\n",
    "            dup.add(i) # otherwise add it to the dup set & loop\n",
    "\n",
    "\n",
    "\n",
    "q1([5,7,9,1,3,7,9,5])\n",
    "\n",
    "\n",
    "\n",
    "\n",
    "\n",
    "# '''Google Search Terms: \"python return first duplicate value in a list\" '''\n",
    "\n",
    "# '''Websites: https://stackoverflow.com/questions/45252243/finding-the-first-duplicate-element-in-an-ordered-list '\n",
    "# OR           \n",
    "#              https://stackoverflow.com/questions/52434942/solving-the-firstduplicate-question-in-python   '''\n",
    "\n",
    "# '''Key words:  reverse set.add(), .add(), .add, '''"
   ]
  },
  {
   "cell_type": "code",
   "execution_count": 14,
   "metadata": {},
   "outputs": [
    {
     "data": {
      "text/plain": [
       "1"
      ]
     },
     "execution_count": 14,
     "metadata": {},
     "output_type": "execute_result"
    }
   ],
   "source": [
    "'''08 - Maybe it has the biggest wheels'''\n",
    "'''Given a sentence as a string with words being separated by a single space, return the length of the shortest word.'''\n",
    "\n",
    "\n",
    "def q1(strng): #create the funtion q1 with a parameter of strng\n",
    "    shortest = min(strng.split(), key=len) # Split the input string into a list of words and find the shortest word using the key function len... Key is to ensure we are comparing the actual lengths of the words, and not just the strings\n",
    "    return(len(shortest))  # Return the length of the shortest word\n",
    "q1(\"I am an idiot sandwich\") # Call the q1 function with the input string \"I am an idiot sandwich\"\n",
    "\n",
    "\n",
    "# '''Google Search Terms: \"python find  and return the length of the shortest word in a string \" '''\n",
    "\n",
    "# '''Websites: https://stackoverflow.com/questions/47113916/find-the-length-shortest-word-in-a-string-in-python\n",
    "\n",
    "# '''Key words:  len, shortest word, longest word'''\n",
    "# NOTE: You could find the largest word by using = max(strng.split(), key=len)"
   ]
  },
  {
   "cell_type": "code",
   "execution_count": 27,
   "metadata": {},
   "outputs": [
    {
     "data": {
      "text/plain": [
       "'a'"
      ]
     },
     "execution_count": 27,
     "metadata": {},
     "output_type": "execute_result"
    }
   ],
   "source": [
    "'''09 - There's some character in there'''\n",
    "'''Given an alphanumeric string, return the character whose ascii value is that of the integer represenation of all of the digits in the string concatenated in the order in which they appear.'''\n",
    "\n",
    "'''For example, given 'hell9oworld7', the returned character should be 'a' which has the ascii value of 97'''\n",
    "\n",
    "def q1(strng):\n",
    "    lst = [] # Create an empty list to store the digits in the input string\n",
    "    for i in strng:  # Iterate over the characters in the input string\n",
    "        if i.isdigit(): # Check if the current character is a digit\n",
    "            lst.append(i) # If it is, append it to the list of digits\n",
    "    nlist = \"\".join(lst) # Concatenate the list of digits into a single string\n",
    "    return (chr(int(nlist))) # Convert the string of digits into an integer and then into a character using the chr() function\n",
    "\n",
    "q1(\"hell9oworld7\")\n",
    "\n",
    "# '''Google Search Terms: \"return list of multiples of an integer up to a given limit\" '''\n",
    "\n",
    "# '''Websites:  https://stackoverflow.com/questions/69405984/how-to-find-multiples-of-a-number-in-a-range-without-loop   '''\n",
    "\n",
    "# '''Key words:  find average, '''"
   ]
  },
  {
   "cell_type": "code",
   "execution_count": 6,
   "metadata": {},
   "outputs": [
    {
     "data": {
      "text/plain": [
       "'None'"
      ]
     },
     "execution_count": 6,
     "metadata": {},
     "output_type": "execute_result"
    }
   ],
   "source": [
    "'''10 - In other words, non-sequential'''\n",
    "'''Given a list of positive integers sorted in ascending order, return the first non-consecutive value. If all values are consecutive, return None'''\n",
    "\n",
    "'''For example, given [1,2,3,4,6,7], the returned value should be 6'''\n",
    "\n",
    "\n",
    "\n",
    "def q1(arr): #the fuction takes in a list (arr) of positive integers sorted in assending order\n",
    "    for i, j in enumerate(arr, arr[0]): # use enumerate() to loop loop through the list with index i and value j, starting at the value of the first element\n",
    "        if i != j: #for each element in the list, check if the index (i) is not equal to the value (j). \n",
    "            return j #If it is not, return the value of j as the first non-consecutive value.\n",
    "    return \"None\" # if we get through the whole list, it returns None\n",
    "\n",
    "q1([1,2,3,4,5,6,7])\n",
    "\n"
   ]
  },
  {
   "cell_type": "code",
   "execution_count": null,
   "metadata": {},
   "outputs": [],
   "source": [
    "######### Modulus   ############\n",
    "#    Modulus = the remainder\n",
    "# var = 10 % 6\n",
    "# print (10 % 2)\n",
    "\n",
    "\n",
    "i = 10\n",
    "y = 3\n",
    "x = i % y\n",
    "\n",
    "f\"the remainder of {i} divided by {y} = {x}\""
   ]
  },
  {
   "cell_type": "code",
   "execution_count": null,
   "metadata": {},
   "outputs": [],
   "source": [
    "######### Modulus   ############\n",
    "#    Modulus = the remainder\n",
    "# var = 10 % 6\n",
    "# print (10 % 2)\n",
    "\n",
    "\n",
    "i = 10\n",
    "y = 3\n",
    "x = i % y\n",
    "\n",
    "f\"the remainder of {i} divided by {y} = {x}\""
   ]
  },
  {
   "cell_type": "code",
   "execution_count": null,
   "metadata": {},
   "outputs": [],
   "source": [
    "######### Modulus   ############\n",
    "#    Modulus = the remainder\n",
    "# var = 10 % 6\n",
    "# print (10 % 2)\n",
    "\n",
    "\n",
    "i = 10\n",
    "y = 3\n",
    "x = i % y\n",
    "\n",
    "f\"the remainder of {i} divided by {y} = {x}\""
   ]
  },
  {
   "cell_type": "code",
   "execution_count": null,
   "metadata": {},
   "outputs": [],
   "source": [
    "######### Modulus   ############\n",
    "#    Modulus = the remainder\n",
    "# var = 10 % 6\n",
    "# print (10 % 2)\n",
    "\n",
    "\n",
    "i = 10\n",
    "y = 3\n",
    "x = i % y\n",
    "\n",
    "f\"the remainder of {i} divided by {y} = {x}\""
   ]
  },
  {
   "cell_type": "code",
   "execution_count": null,
   "metadata": {},
   "outputs": [],
   "source": [
    "######### Modulus   ############\n",
    "#    Modulus = the remainder\n",
    "# var = 10 % 6\n",
    "# print (10 % 2)\n",
    "\n",
    "\n",
    "i = 10\n",
    "y = 3\n",
    "x = i % y\n",
    "\n",
    "f\"the remainder of {i} divided by {y} = {x}\""
   ]
  },
  {
   "cell_type": "code",
   "execution_count": null,
   "metadata": {},
   "outputs": [],
   "source": [
    "######### Modulus   ############\n",
    "#    Modulus = the remainder\n",
    "# var = 10 % 6\n",
    "# print (10 % 2)\n",
    "\n",
    "\n",
    "i = 10\n",
    "y = 3\n",
    "x = i % y\n",
    "\n",
    "f\"the remainder of {i} divided by {y} = {x}\""
   ]
  },
  {
   "cell_type": "code",
   "execution_count": null,
   "metadata": {},
   "outputs": [],
   "source": [
    "######### Modulus   ############\n",
    "#    Modulus = the remainder\n",
    "# var = 10 % 6\n",
    "# print (10 % 2)\n",
    "\n",
    "\n",
    "i = 10\n",
    "y = 3\n",
    "x = i % y\n",
    "\n",
    "f\"the remainder of {i} divided by {y} = {x}\""
   ]
  },
  {
   "cell_type": "code",
   "execution_count": null,
   "metadata": {},
   "outputs": [],
   "source": [
    "######### Modulus   ############\n",
    "#    Modulus = the remainder\n",
    "# var = 10 % 6\n",
    "# print (10 % 2)\n",
    "\n",
    "\n",
    "i = 10\n",
    "y = 3\n",
    "x = i % y\n",
    "\n",
    "f\"the remainder of {i} divided by {y} = {x}\""
   ]
  },
  {
   "cell_type": "code",
   "execution_count": null,
   "metadata": {},
   "outputs": [],
   "source": [
    "######### Modulus   ############\n",
    "#    Modulus = the remainder\n",
    "# var = 10 % 6\n",
    "# print (10 % 2)\n",
    "\n",
    "\n",
    "i = 10\n",
    "y = 3\n",
    "x = i % y\n",
    "\n",
    "f\"the remainder of {i} divided by {y} = {x}\""
   ]
  },
  {
   "cell_type": "code",
   "execution_count": null,
   "metadata": {},
   "outputs": [],
   "source": [
    "######### Modulus   ############\n",
    "#    Modulus = the remainder\n",
    "# var = 10 % 6\n",
    "# print (10 % 2)\n",
    "\n",
    "\n",
    "i = 10\n",
    "y = 3\n",
    "x = i % y\n",
    "\n",
    "f\"the remainder of {i} divided by {y} = {x}\""
   ]
  },
  {
   "cell_type": "code",
   "execution_count": null,
   "metadata": {},
   "outputs": [],
   "source": [
    "######### Modulus   ############\n",
    "#    Modulus = the remainder\n",
    "# var = 10 % 6\n",
    "# print (10 % 2)\n",
    "\n",
    "\n",
    "i = 10\n",
    "y = 3\n",
    "x = i % y\n",
    "\n",
    "f\"the remainder of {i} divided by {y} = {x}\""
   ]
  },
  {
   "cell_type": "code",
   "execution_count": null,
   "metadata": {},
   "outputs": [],
   "source": [
    "'''\n",
    "=======================================================================================================================================================\n",
    "                                                                  PyPracticeV1\n",
    "=======================================================================================================================================================\n",
    "'''"
   ]
  },
  {
   "cell_type": "code",
   "execution_count": null,
   "metadata": {},
   "outputs": [],
   "source": [
    "'''\n",
    "=======================================================================================================================================================\n",
    "                                                                  PYCore Challenges\n",
    "=======================================================================================================================================================\n",
    "'''"
   ]
  }
 ],
 "metadata": {
  "kernelspec": {
   "display_name": "Python 3",
   "language": "python",
   "name": "python3"
  },
  "language_info": {
   "codemirror_mode": {
    "name": "ipython",
    "version": 3
   },
   "file_extension": ".py",
   "mimetype": "text/x-python",
   "name": "python",
   "nbconvert_exporter": "python",
   "pygments_lexer": "ipython3",
   "version": "3.11.2"
  },
  "orig_nbformat": 4,
  "vscode": {
   "interpreter": {
    "hash": "a729ac585e6766266d3abc026461d1c51b10b48ff88e8052a60fa7264d936e4a"
   }
  }
 },
 "nbformat": 4,
 "nbformat_minor": 2
}
