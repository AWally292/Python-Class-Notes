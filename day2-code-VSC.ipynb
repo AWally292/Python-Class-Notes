{
 "cells": [
  {
   "cell_type": "code",
   "execution_count": 8,
   "metadata": {},
   "outputs": [
    {
     "name": "stdout",
     "output_type": "stream",
     "text": [
      "correct, 9 the number\n"
     ]
    }
   ],
   "source": [
    "#if then else practice\n",
    "\n",
    "number = 9\n",
    "\n",
    "if number == 9:\n",
    "    print(\"correct, 9 the number\")\n",
    "elif number == 10:\n",
    "    print(\"this is the 10\")\n",
    "else:\n",
    "    print(\"default\")"
   ]
  },
  {
   "cell_type": "code",
   "execution_count": 10,
   "metadata": {},
   "outputs": [
    {
     "name": "stdout",
     "output_type": "stream",
     "text": [
      "yes, that is a number\n"
     ]
    }
   ],
   "source": [
    "#Checking to see if there's a number in the user's input\n",
    "user = input(\"Enter a number: \")\n",
    "\n",
    "if user.isdigit():\n",
    "    print(\"yes, that is a number\")\n",
    "else:\n",
    "    print(\"nope, not a number\")"
   ]
  },
  {
   "cell_type": "code",
   "execution_count": 11,
   "metadata": {},
   "outputs": [
    {
     "name": "stdout",
     "output_type": "stream",
     "text": [
      "fizz\n",
      "buzz\n",
      "user\n"
     ]
    }
   ],
   "source": [
    "#Checking to see the user's input is evenly divisible by 3, 5, or both\n",
    "user = int(input(\"Enter a number: \"))\n",
    "\n",
    "if user % 3 == 0:   #if the input is evenly divisible by 3\n",
    "    print(\"fizz\")\n",
    "if not user % 5:    #if the input is evenly divisible by 5\n",
    "    print (\"buzz\")\n",
    "if not user % 3 and not user % 5:    #if the input is evenly divisible by both 3 and 5\n",
    "    print(\"user\")"
   ]
  },
  {
   "cell_type": "code",
   "execution_count": null,
   "metadata": {},
   "outputs": [],
   "source": [
    "# creating a function that prints the values a and b on separate lines\n",
    "def printing(a,b):\n",
    "    print(a)\n",
    "    print(b)\n",
    "\n",
    "printing(\"An example of an argument for A\", \"This satisfies the requirementes of B\")"
   ]
  },
  {
   "cell_type": "code",
   "execution_count": 15,
   "metadata": {},
   "outputs": [
    {
     "data": {
      "text/plain": [
       "50"
      ]
     },
     "execution_count": 15,
     "metadata": {},
     "output_type": "execute_result"
    }
   ],
   "source": [
    "# multiplying variables\n",
    "def multipy(a,b):\n",
    "    return a*b\n",
    "\n",
    "multipy(10, 5)"
   ]
  },
  {
   "cell_type": "code",
   "execution_count": null,
   "metadata": {},
   "outputs": [],
   "source": [
    "# multiplying User inputs\n",
    "def multipy():\n",
    "    a = int(input(\"Enter Number A\"))\n",
    "    b = int(input(\"Enter Number B\"))\n",
    "    return a * b\n",
    "    \n",
    "multipy()"
   ]
  },
  {
   "cell_type": "code",
   "execution_count": null,
   "metadata": {},
   "outputs": [],
   "source": [
    "# Global vs local functions and variables\n",
    "\n",
    "variable = \"Global variable\"\n",
    "print(variable)\n",
    "\n",
    "def showing_scope():\n",
    "    variable = \"Local Variable in a Function\"\n",
    "    print(variable)\n",
    "\n",
    "showing_scope()\n",
    "print(variable)"
   ]
  },
  {
   "cell_type": "code",
   "execution_count": null,
   "metadata": {},
   "outputs": [],
   "source": [
    "#Loops Notes\n",
    "    #  while <condition>\n",
    "    #      <code block>\n",
    "\n",
    "counter = 0\n",
    "while counter <= 10:\n",
    "    print(counter)\n",
    "    counter = counter +1      #short hand for incrementing looks like counter +=1\n"
   ]
  },
  {
   "cell_type": "code",
   "execution_count": 25,
   "metadata": {},
   "outputs": [
    {
     "name": "stdout",
     "output_type": "stream",
     "text": [
      "['eric', 'dave', 'steve', 'tom', 'dick', 'harry', 'rob', 'bob']\n"
     ]
    }
   ],
   "source": [
    "#While True Loop with a break\n",
    "\n",
    "lst = []\n",
    "while True:\n",
    "    name = input(\"Enter a Name\")\n",
    "    if name == \"stop\":\n",
    "            break\n",
    "    lst.append(name)\n",
    "print(lst)"
   ]
  },
  {
   "cell_type": "code",
   "execution_count": 34,
   "metadata": {},
   "outputs": [
    {
     "name": "stdout",
     "output_type": "stream",
     "text": [
      "w\n",
      "o\n",
      "r\n",
      "d\n"
     ]
    }
   ],
   "source": [
    "# fdsafdsa\n",
    "\n",
    "for char in \"word\":\n",
    "    print(char)\n",
    "\n"
   ]
  },
  {
   "cell_type": "code",
   "execution_count": 39,
   "metadata": {},
   "outputs": [
    {
     "name": "stdout",
     "output_type": "stream",
     "text": [
      "an\n",
      "example\n",
      "of\n",
      "a\n",
      "list\n"
     ]
    }
   ],
   "source": [
    "# Prints each word in the list until end of list\n",
    "lst = [\"an\", \"example\", \"of\", \"a\", \"list\"]\n",
    "\n",
    "for word in lst:\n",
    "    print(word)"
   ]
  },
  {
   "cell_type": "code",
   "execution_count": null,
   "metadata": {},
   "outputs": [],
   "source": [
    "lst = [\"an\", \"example\", \"of\", \"a\", \"list\"]\n",
    "\n",
    "for word in lst[1]:   #Now it only does the character at the numerical address\n",
    "    print(word)"
   ]
  },
  {
   "cell_type": "code",
   "execution_count": null,
   "metadata": {},
   "outputs": [],
   "source": [
    "#now this does each character of each word in the least, then goes on to the next word, etc...etc....\n",
    "\n",
    "lst = [\"an\", \"example\", \"of\", \"a\", \"list\"]\n",
    "\n",
    "for word in lst:\n",
    "    for char in word:\n",
    "        print(char)"
   ]
  },
  {
   "cell_type": "code",
   "execution_count": 42,
   "metadata": {},
   "outputs": [],
   "source": [
    "#This prints out the word in the list until it encounters an \"a\" in the 0 location of the current word\n",
    "\n",
    "lst = [\"an\", \"example\", \"of\", \"a\", \"list\"]\n",
    "\n",
    "for word in lst:\n",
    "    if word[0] ==\"a\":\n",
    "        break\n",
    "    else:\n",
    "\n",
    "        print(word)"
   ]
  },
  {
   "cell_type": "code",
   "execution_count": 45,
   "metadata": {},
   "outputs": [
    {
     "name": "stdout",
     "output_type": "stream",
     "text": [
      "0 is even\n",
      "1 is odd\n",
      "2 is even\n",
      "3 is odd\n",
      "4 is even\n",
      "5 is odd\n",
      "6 is even\n",
      "7 is odd\n",
      "8 is even\n",
      "9 is odd\n",
      "10 is even\n"
     ]
    }
   ],
   "source": [
    "#for loop to determine whether a number in a range is odd or even\n",
    "for number in range(0,11):\n",
    "    if number % 2 == 0:\n",
    "        print(f\"{number} is even\")\n",
    "    else:\n",
    "        print(f\"{number} is odd\")"
   ]
  },
  {
   "cell_type": "code",
   "execution_count": 46,
   "metadata": {},
   "outputs": [
    {
     "name": "stdout",
     "output_type": "stream",
     "text": [
      "This index is even and this is the 0 number\n",
      "This index is odd and this is the 1 number\n",
      "This index is even and this is the 2 number\n",
      "This index is odd and this is the 3 number\n",
      "This index is even and this is the 4 number\n",
      "This index is odd and this is the 5 number\n",
      "This index is even and this is the 6 number\n",
      "This index is odd and this is the 7 number\n"
     ]
    }
   ],
   "source": [
    "word_list = [\"showing\", \"the\", \"length\", \"function\", \"here\", \"and\", \"accessing\", \"indexes\"]\n",
    "\n",
    "for i in range(len(word_list)):\n",
    "    if i % 2 == 0:\n",
    "        print(f\"This index is even and this is the {i} number\")\n",
    "    else:\n",
    "        print(f\"This index is odd and this is the {i} number\")\n",
    "        "
   ]
  },
  {
   "cell_type": "code",
   "execution_count": 48,
   "metadata": {},
   "outputs": [
    {
     "name": "stdout",
     "output_type": "stream",
     "text": [
      "I am\n",
      "the\n",
      "length\n",
      "function\n",
      "more words\n",
      "here\n",
      "and\n",
      "accessing\n",
      "I feel Triggered, your code is bad\n"
     ]
    }
   ],
   "source": [
    "word_list = [\"showing\", \"the\", \"length\", \"function\", \"here\", \"and\", \"accessing\", \"indexes\"]\n",
    "\n",
    "for word in word_list:\n",
    "    if word == \"showing\":\n",
    "        print(\"I am\")\n",
    "        continue\n",
    "    if word == \"here\":\n",
    "        print(\"more words\")\n",
    "    if word == \"indexes\":\n",
    "        print(\"I feel Triggered, your code is bad\")\n",
    "    else:\n",
    "        print(word)\n",
    "        "
   ]
  },
  {
   "cell_type": "code",
   "execution_count": 51,
   "metadata": {},
   "outputs": [
    {
     "name": "stdout",
     "output_type": "stream",
     "text": [
      "['changing', 'out', 'indexes']\n",
      "['New', 'out', 'indexes']\n"
     ]
    }
   ],
   "source": [
    "#overwriting ....\n",
    "\n",
    "lst = [\"changing\", \"out\", \"indexes\"]\n",
    "print(lst)\n",
    "\n",
    "lst[0] = \"New\"\n",
    "print(lst)"
   ]
  },
  {
   "cell_type": "code",
   "execution_count": 52,
   "metadata": {},
   "outputs": [
    {
     "name": "stdout",
     "output_type": "stream",
     "text": [
      "3000\n"
     ]
    }
   ],
   "source": [
    "\n",
    "\n",
    "\n",
    "lst = [[10,20,30], [100,200,300], [1000,2000,3000]]\n",
    "print(lst[2][2])"
   ]
  },
  {
   "cell_type": "code",
   "execution_count": 57,
   "metadata": {},
   "outputs": [
    {
     "name": "stdout",
     "output_type": "stream",
     "text": [
      "[7, 11, 13, 17, 19]\n",
      "[1, 7, 17, 29]\n",
      "[37, 31, 29, 23, 19, 17, 13, 11, 7, 5, 3, 1]\n",
      "rettam ton seod ti dna ereh ffuts fo hcnub A\n"
     ]
    }
   ],
   "source": [
    "# Ranges.... remember start is INCLUSIVE, stop is EXCLUSIVE (stops 1 to the left)\n",
    "\n",
    "primes = [1,3,5,7,11,13,17,19,23,29,31,37]\n",
    "strn = \"A bunch of stuff here and it does not matter\"\n",
    "print(primes[3:8])   #Prints STARTING with area 3, ENDING 1 position to the left of area 8 (19 instead of 23)\n",
    "\n",
    "print(primes[::3])   #prints from the beginning, Prints EVERY THIRD position\n",
    "\n",
    "print(primes[::-1])  #starts from the back... prints in reverse\n",
    "\n",
    "print(strn[::-1])    #prints the whole thing backwards by character"
   ]
  },
  {
   "cell_type": "code",
   "execution_count": null,
   "metadata": {},
   "outputs": [],
   "source": [
    "#                              START CTF ACTIVITIES\n",
    "#===================================================================================================================================================================================================="
   ]
  },
  {
   "cell_type": "code",
   "execution_count": 38,
   "metadata": {},
   "outputs": [
    {
     "name": "stdout",
     "output_type": "stream",
     "text": [
      "Negative Odd\n"
     ]
    }
   ],
   "source": [
    "#CTF Activity 7\n",
    "user_input = int(input(\"Enter a Number: \"))\n",
    "if not user_input % 2 and user_input < 0:\n",
    "    print(\"Negative Even\")\n",
    "if not user_input % 2 and user_input > 0:\n",
    "    print(\"Positive Even\")\n",
    "if user_input %2 and user_input < 0:\n",
    "    print(\"Negative Odd\")\n",
    "if user_input %2 and user_input > 0:\n",
    "    print(\"Positive Odd\")\n",
    "if user_input == 0:\n",
    "    print(\"Zero\")"
   ]
  },
  {
   "cell_type": "code",
   "execution_count": 39,
   "metadata": {},
   "outputs": [
    {
     "name": "stdout",
     "output_type": "stream",
     "text": [
      "<function domath at 0x7fc6741cd430>\n"
     ]
    }
   ],
   "source": [
    "#CTF Activity 8\n",
    "def domath(a,b,c):\n",
    "    return ((a+b)*c)\n"
   ]
  },
  {
   "cell_type": "code",
   "execution_count": 21,
   "metadata": {},
   "outputs": [
    {
     "name": "stdout",
     "output_type": "stream",
     "text": [
      "7\n"
     ]
    }
   ],
   "source": [
    "#CTF Activity OOA - Fizz Buzz\n",
    "user_input = int(input(\"Enter a Number: \")) #asking user to input two numbers\n",
    "\n",
    "if user_input % 3 == 0 and user_input % 5 == 0: #if the number is evenly divisible by both 3 & 5, return fizzbuzz\n",
    "    print(\"fizzbuzz\")\n",
    "elif user_input % 3 == 0: #if the number is evenly divisible by 3, return fizz\n",
    "    print(\"fizz\")\n",
    "elif user_input % 5 == 0: #if the number is evenly divisible by 5, return buzz\n",
    "    print(\"buzz\")\n",
    "else:\n",
    "    print(user_input)\n"
   ]
  },
  {
   "cell_type": "code",
   "execution_count": 82,
   "metadata": {},
   "outputs": [
    {
     "data": {
      "text/plain": [
       "['evetss', 'evad', 'bob']"
      ]
     },
     "execution_count": 82,
     "metadata": {},
     "output_type": "execute_result"
    }
   ],
   "source": [
    "#CTF Activity 09\n",
    "\n",
    "def reverseit():\n",
    "    lst = []\n",
    "    while True:\n",
    "        name = input(\"Enter a Name\")\n",
    "        if name == \"\":\n",
    "                break\n",
    "        lst.append(name[::-1])\n",
    "    return(lst)\n",
    "reverseit()\n"
   ]
  },
  {
   "cell_type": "code",
   "execution_count": 139,
   "metadata": {},
   "outputs": [
    {
     "data": {
      "text/plain": [
       "'AbCdEf gHiJkL'"
      ]
     },
     "execution_count": 139,
     "metadata": {},
     "output_type": "execute_result"
    }
   ],
   "source": [
    "#CTF Activity 10\n",
    "\n",
    "def leetStrings(s):\n",
    "    lst = []\n",
    "    for i in range(len(s)):\n",
    "        if i % 2 == 0:\n",
    "            lst.append(s[i].upper())\n",
    "        else:\n",
    "            lst.append(s[i].lower())\n",
    "    return \"\".join(lst)\n",
    "leetStrings(\"ABCDEF ghijkl\")"
   ]
  },
  {
   "cell_type": "code",
   "execution_count": null,
   "metadata": {},
   "outputs": [],
   "source": [
    "#CTF Guess Number 10\n",
    "def guess_number(n):\n",
    "    user_input = 2\n",
    "    while user_input in range(0,101):\n",
    "        user_input = int(input(\"Guess a number between 0 and 100:\"))\n",
    "        if user_input < n:\n",
    "            print(\"too low\")\n",
    "        if user_input > n:\n",
    "            print(\"too high\")\n",
    "        if user_input == n:\n",
    "            print(\"WIN\")\n",
    "            break\n",
    "guess_number(23)\n"
   ]
  },
  {
   "cell_type": "code",
   "execution_count": null,
   "metadata": {},
   "outputs": [],
   "source": [
    "#CTF Python Activity 11\n",
    "\n",
    "def evensandodds(first, last):\n",
    "    for i in range(first, last+1):\n",
    "        if i % 2 == 0:\n",
    "            print(f\"{i}\")\n",
    "    for i in range(first, last+1):\n",
    "        if i % 2 != 0:\n",
    "            print(f\"{i}\")\n",
    "evensandodds(2,25)"
   ]
  },
  {
   "cell_type": "code",
   "execution_count": 128,
   "metadata": {},
   "outputs": [
    {
     "data": {
      "text/plain": [
       "['2', 'd', '3', 'fd', 'h', '5', '4', 'd', 'f', 't', '4', 'f']"
      ]
     },
     "execution_count": 128,
     "metadata": {},
     "output_type": "execute_result"
    }
   ],
   "source": [
    "#CTF Python Activity 12\n",
    "def user_io():\n",
    "    lst = []\n",
    "    while True:\n",
    "        name = input(\"Enter Info\")\n",
    "        if name == \"\":\n",
    "                break\n",
    "        lst.append(name)\n",
    "    return(lst)\n",
    "user_io()"
   ]
  },
  {
   "cell_type": "code",
   "execution_count": 131,
   "metadata": {},
   "outputs": [
    {
     "data": {
      "text/plain": [
       "(10, 20, 30, 40, 50, 60, 70, 80, 90, 100)"
      ]
     },
     "execution_count": 131,
     "metadata": {},
     "output_type": "execute_result"
    }
   ],
   "source": [
    "#CTA Python Activity 13\n",
    "def make_tuple():\n",
    "    return(tuple(range(10,101,10)))\n",
    "make_tuple()\n"
   ]
  },
  {
   "cell_type": "code",
   "execution_count": null,
   "metadata": {},
   "outputs": [],
   "source": [
    "#CTA Python Activity 13-1\n",
    "def make_tuple(a,b):\n",
    "    lst = []\n",
    "    for number in range (a,b +1):\n",
    "        if number % 10 == 0:\n",
    "            lst.append(number)\n",
    "    return tuple(lst)\n",
    "make_tuple(15,205)\n",
    "\n",
    "\n",
    "\n",
    "\n",
    "# def make_tuple(a,b):\n",
    "#     return(tuple(range(a,b+1,10)))\n",
    "# make_tuple(5,100)"
   ]
  },
  {
   "cell_type": "code",
   "execution_count": 155,
   "metadata": {},
   "outputs": [
    {
     "data": {
      "text/plain": [
       "('', \"Physics is the universe's operating system\")"
      ]
     },
     "execution_count": 155,
     "metadata": {},
     "output_type": "execute_result"
    }
   ],
   "source": [
    "#CTA Python Activity 14\n",
    "def strings():\n",
    "    return (\"\", \"Physics is the universe's operating system\")\n",
    "strings()\n"
   ]
  },
  {
   "cell_type": "code",
   "execution_count": 156,
   "metadata": {},
   "outputs": [
    {
     "data": {
      "text/plain": [
       "(['f', 'd', 'd', 'd'], ['f', 'd', 'ds', 's', 'dsds'])"
      ]
     },
     "execution_count": 156,
     "metadata": {},
     "output_type": "execute_result"
    }
   ],
   "source": [
    "#CTA Python Activity 15\n",
    "def disect(lst):\n",
    "    half = len(lst)//2\n",
    "    return lst[:half], lst[half:]\n",
    "    \n",
    "\n",
    "\n",
    "\n",
    "disect(lst)"
   ]
  },
  {
   "cell_type": "code",
   "execution_count": null,
   "metadata": {},
   "outputs": [],
   "source": [
    "#CTA Python Activity 16\n",
    "def reverse_string(strng):\n",
    "    return strng[::-1]"
   ]
  },
  {
   "cell_type": "code",
   "execution_count": 159,
   "metadata": {},
   "outputs": [
    {
     "data": {
      "text/plain": [
       "[80, 121, 116, 104, 111, 110, 32, 105, 115, 32, 100, 101, 99, 101, 110, 116]"
      ]
     },
     "execution_count": 159,
     "metadata": {},
     "output_type": "execute_result"
    }
   ],
   "source": [
    "#CYTA Python Activity 17                      !!!!Check out             https://initialcommit.com/blog/python-ord-function\n",
    "def code_points(strng):\n",
    "    lst = []\n",
    "    for character in strng:\n",
    "        lst.append(ord(character))\n",
    "    return lst\n",
    "code_points(\"Python is decent\")"
   ]
  }
 ],
 "metadata": {
  "kernelspec": {
   "display_name": "Python 3",
   "language": "python",
   "name": "python3"
  },
  "language_info": {
   "codemirror_mode": {
    "name": "ipython",
    "version": 3
   },
   "file_extension": ".py",
   "mimetype": "text/x-python",
   "name": "python",
   "nbconvert_exporter": "python",
   "pygments_lexer": "ipython3",
   "version": "3.8.10"
  },
  "orig_nbformat": 4,
  "vscode": {
   "interpreter": {
    "hash": "916dbcbb3f70747c44a77c7bcd40155683ae19c65e1c03b4aa3499c5328201f1"
   }
  }
 },
 "nbformat": 4,
 "nbformat_minor": 2
}
