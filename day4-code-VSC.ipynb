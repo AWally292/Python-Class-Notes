{
 "cells": [
  {
   "cell_type": "code",
   "execution_count": 2,
   "metadata": {},
   "outputs": [
    {
     "name": "stdout",
     "output_type": "stream",
     "text": [
      "{1, 2, 3, 35, 5, 22}\n"
     ]
    }
   ],
   "source": [
    "#Start Day 4 Notes\n",
    "# ==================================================================================================================================================================\n"
   ]
  },
  {
   "cell_type": "code",
   "execution_count": null,
   "metadata": {},
   "outputs": [],
   "source": [
    "#Sets - what \n",
    "\n",
    "a_list = [1,1,1,1,1,1,1,1,1,2,2,2,2,2,2,2,2,22,3,3,3,3,3,3,35,5,5,5,5,5,5,5,5,5,5,5]\n",
    "a_set = set(a_list)\n",
    "print(a_set)"
   ]
  },
  {
   "cell_type": "code",
   "execution_count": 3,
   "metadata": {},
   "outputs": [
    {
     "name": "stdout",
     "output_type": "stream",
     "text": [
      "<class 'set'>\n"
     ]
    }
   ],
   "source": [
    "#making a set, define a set by using the curly brackets {}\n",
    "\n",
    "another = {1,2,3,4,5,6}\n",
    "print(type(another))"
   ]
  },
  {
   "cell_type": "code",
   "execution_count": 4,
   "metadata": {},
   "outputs": [
    {
     "data": {
      "text/plain": [
       "{1, 2, 3, 4, 5, 6, 7, 8, 9}"
      ]
     },
     "execution_count": 4,
     "metadata": {},
     "output_type": "execute_result"
    }
   ],
   "source": [
    "#set unions - when you union two sets, you only return non-duplicates added together\n",
    "\n",
    "another = {1,2,3,4,5,6}\n",
    "another2 = {4,5,6,7,8,9}\n",
    "\n",
    "another.union(another2)"
   ]
  },
  {
   "cell_type": "code",
   "execution_count": 10,
   "metadata": {},
   "outputs": [
    {
     "data": {
      "text/plain": [
       "{7, 8, 9}"
      ]
     },
     "execution_count": 10,
     "metadata": {},
     "output_type": "execute_result"
    }
   ],
   "source": [
    "#Set difference - When you .difference, you only return what the set you are .differencing has that the comparing set doesn't have\n",
    "\n",
    "another = {1,2,3,4,5,6}\n",
    "set1 = {4,5,6,7,8,9}\n",
    "\n",
    "set1.difference(another)"
   ]
  },
  {
   "cell_type": "code",
   "execution_count": 11,
   "metadata": {},
   "outputs": [
    {
     "data": {
      "text/plain": [
       "{4, 5, 6}"
      ]
     },
     "execution_count": 11,
     "metadata": {},
     "output_type": "execute_result"
    }
   ],
   "source": [
    "#Set - When you .intersection, you only return what the set you are .intersectioning and the comparing set both have in common\n",
    "another = {1,2,3,4,5,6}\n",
    "set1 = {4,5,6,7,8,9}\n",
    "\n",
    "set1.intersection(another)"
   ]
  },
  {
   "cell_type": "code",
   "execution_count": 29,
   "metadata": {},
   "outputs": [
    {
     "name": "stdout",
     "output_type": "stream",
     "text": [
      "dict_keys(['Key', 'MegaMillions', 'Item 3', 'second'])\n",
      "dict_values(['Value1', 282828282828282, 'oicu812', 'secondValue'])\n",
      "dict_items([('Key', 'Value1'), ('MegaMillions', 282828282828282), ('Item 3', 'oicu812'), ('second', 'secondValue')])\n",
      "('Key', 'Value1')\n",
      "('MegaMillions', 282828282828282)\n",
      "('Item 3', 'oicu812')\n",
      "('second', 'secondValue')\n",
      "Key is the KEY, the VALUE is Value1\n",
      "MegaMillions is the KEY, the VALUE is 282828282828282\n",
      "Item 3 is the KEY, the VALUE is oicu812\n",
      "second is the KEY, the VALUE is secondValue\n",
      "Value1 is the value, and Key is they key\n",
      "282828282828282 is the value, and MegaMillions is they key\n",
      "oicu812 is the value, and Item 3 is they key\n",
      "secondValue is the value, and second is they key\n"
     ]
    }
   ],
   "source": [
    "#Dictionary\n",
    "\n",
    "#Dictionaries are key:value pairs. When referencing them together they are items\n",
    "#Keys have to be unique\n",
    "#Values can be used multiple times\n",
    "\n",
    "\n",
    "\n",
    "#Be prepared to pull up the help menu to understand the dict mappings ..... Key:Value\n",
    "#\n",
    "\n",
    "dict1 = {\"Key\":\"Value\", \"MegaMillions\":282828282828282, \"Item 3\":\"oicu812\"}\n",
    "\n",
    "\n",
    "\n",
    "#Getting info out of dictionaries\n",
    "\n",
    "dict1['Key'] #This will return the VALUE of Key\n",
    "\n",
    "\n",
    "#Adding and changing dictionary entries\n",
    "\n",
    "dict1['second'] = 'secondValue'  #adding a new key:value\n",
    "\n",
    "dict1['Key'] = 'Value1'    #changes the value of key\n",
    "\n",
    "print(dict1.keys())   #print/returns only the keys within the dict\n",
    "\n",
    "print(dict1.values())  #prints/returns only the values within the dictionary\n",
    "\n",
    "print(dict1.items())  #prints/returns the keys and values as tuples\n",
    "\n",
    "\n",
    "for items in dict1.items(): #prints off the items on separate lines\n",
    "    print(items)\n",
    "\n",
    "\n",
    "for key,value in dict1.items():  #for loop assigning variables \"key, value\" to the key and value component of the dictionary (in order key,value)\n",
    "    print(f'{key} is the KEY, the VALUE is {value}')  #printing out using f-string, showing what the key and values are for each item with accompanying text\n",
    "\n",
    "\n",
    "for a,b in dict1.items():\n",
    "    print(f'{b} is the value, and {a} is they key')\n"
   ]
  },
  {
   "cell_type": "code",
   "execution_count": 35,
   "metadata": {},
   "outputs": [
    {
     "name": "stdout",
     "output_type": "stream",
     "text": [
      "3\n"
     ]
    }
   ],
   "source": [
    "#Dictionary example broader\n",
    "  #just creating a list to call\n",
    "ranks = [\"Maj\", \"CPT\", \"1LT\", \"2LT\", \"Maj\", \"1LT\", \"2LT\", \"1LT\", \"2LT\"]\n",
    "    #creating a function that builds a dictionary from the input (ranks), and returns the number of times an entry exists\n",
    "def building_dict(lst): #lst value is just the perameter that will be passed to the function\n",
    "    #creating the empty dictionary to fill\n",
    "    dict1 = {}\n",
    "    #for loop iterating through the list (ranks). for each item in the list put the info into the variable (rank) \n",
    "    for rank in lst: \n",
    "    # create entries in the dictionary (dict1) with key names equaling the entries in the list. Next create entries in the value portion equal to the number of times the key's name is in the list.\n",
    "        dict1[rank] = lst.count(rank)\n",
    "    return dict1\n",
    "building_dict(ranks)\n"
   ]
  },
  {
   "cell_type": "code",
   "execution_count": 39,
   "metadata": {},
   "outputs": [
    {
     "name": "stdout",
     "output_type": "stream",
     "text": [
      "The Value for 'a' = First paramenter that goes in 'A' :  , The Value for 'b' = This is a default\n"
     ]
    }
   ],
   "source": [
    "# Default values to Parameters\n",
    "\n",
    "def default_parms(a, b= \"This is a default\"): #Parameter b has a default value\n",
    "    print(f\"The Value for 'a' = {a}, The Value for 'b' = {b}\")\n",
    "default_parms(\"First paramenter that goes in 'A' :  \") #the call only gives one paramenter, which is assigned to a, so it returns the passed value for a, and the default value for b\n"
   ]
  },
  {
   "cell_type": "code",
   "execution_count": 45,
   "metadata": {},
   "outputs": [
    {
     "name": "stdout",
     "output_type": "stream",
     "text": [
      "10\n"
     ]
    }
   ],
   "source": [
    "# Varying number of aguements that can be passed in\n",
    "\n",
    "def addition(*something):\n",
    "    print(sum(something))\n",
    "\n",
    "addition (1,1,1,1,1,1,1,1,1,1)\n",
    "\n"
   ]
  },
  {
   "cell_type": "code",
   "execution_count": 52,
   "metadata": {},
   "outputs": [
    {
     "data": {
      "text/plain": [
       "{'Maj': 2, 'CPT': 1, '1LT': 3, '2LT': 3}"
      ]
     },
     "execution_count": 52,
     "metadata": {},
     "output_type": "execute_result"
    }
   ],
   "source": [
    "ranks = [\"Maj\", \"CPT\", \"1LT\", \"2LT\", \"Maj\", \"1LT\", \"2LT\", \"1LT\", \"2LT\"]\n",
    "\n",
    "def building_dict(*lst): #use the * to say you are going to pass an unknown quantity of arguments as parameters, just take it all\n",
    "    dict1 = {}\n",
    "    for rank in lst: \n",
    "        dict1[rank] = lst.count(rank)\n",
    "    return dict1\n",
    "building_dict(*[\"Maj\", \"CPT\", \"1LT\", \"2LT\", \"Maj\", \"1LT\", \"2LT\", \"1LT\", \"2LT\"]) #must start the arguments with asterisk *"
   ]
  },
  {
   "cell_type": "code",
   "execution_count": 66,
   "metadata": {},
   "outputs": [
    {
     "name": "stdout",
     "output_type": "stream",
     "text": [
      "this is here\n",
      "another argument\n",
      "150\n"
     ]
    }
   ],
   "source": [
    "def keyword_args(*another_parm, **this_for_that):\n",
    "    for i in another_parm:\n",
    "        print(i)\n",
    "        total_amount = 0 #initialized an empty counter\n",
    "    for line in this_for_that.items():\n",
    "        total_amount = total_amount + line[1] #each time the loop iterates it adds the value\n",
    "    print(total_amount) #this will give me the total amount of the values added together\n",
    "keyword_args(\"this is here\", \"another argument\", lottery = 10, pet_weight = 90, variable3 = 50) "
   ]
  },
  {
   "cell_type": "code",
   "execution_count": 44,
   "metadata": {},
   "outputs": [
    {
     "name": "stdout",
     "output_type": "stream",
     "text": [
      "1,2,3\n"
     ]
    }
   ],
   "source": [
    "def a_new_function(a,b,c):\n",
    "    print(f\"{a},{b},{c}\")\n",
    "a_new_function(1,2,3)"
   ]
  },
  {
   "cell_type": "code",
   "execution_count": 7,
   "metadata": {},
   "outputs": [
    {
     "name": "stdout",
     "output_type": "stream",
     "text": [
      "139779849184192\n",
      "{1, 2, 3, 4, 5, 6, 100}\n",
      "139779849184192\n"
     ]
    }
   ],
   "source": [
    "another = {1,2,3,4,5,6}\n",
    "print(id(another))\n",
    "\n",
    "another.add(100)\n",
    "print(another)\n",
    "print(id(another))"
   ]
  },
  {
   "cell_type": "code",
   "execution_count": 73,
   "metadata": {},
   "outputs": [
    {
     "name": "stdout",
     "output_type": "stream",
     "text": [
      "['Bob', 'Jim', 'Paul', 'Richard']\n",
      "['Bob', 'Jim', 'Paul', 'Richard'] this is the original\n",
      "['Bob', 'Jim', 'Paul', 'Richard'], this is the sorted list stored in a variable\n",
      "['Stuff', 'In', 'A', 'List']\n",
      "['A', 'In', 'List', 'Stuff']\n"
     ]
    }
   ],
   "source": [
    "#Sorting\n",
    "\n",
    "# list.sort\n",
    "# sorted(list)\n",
    "\n",
    "a_list_here = [\"Bob\", \"Jim\", \"Paul\", \"Richard\"]\n",
    "print(sorted(a_list_here))\n",
    "print(f\"{a_list_here} this is the original\")\n",
    "sorted_list = sorted(a_list_here)\n",
    "print(f\"{sorted_list}, this is the sorted list stored in a variable\")   #These all change the list for the return, but doesn't permanently change the list\n",
    "\n",
    "different_list = [\"Stuff\", \"In\", \"A\", \"List\"]\n",
    "print (different_list)\n",
    "different_list.sort()                          #.sort permanently changes the list... have to do this, THEN return or print... can't print(list.sort)\n",
    "print(different_list)"
   ]
  },
  {
   "cell_type": "code",
   "execution_count": 85,
   "metadata": {},
   "outputs": [
    {
     "name": "stdout",
     "output_type": "stream",
     "text": [
      "BUT it can         also still be          called by a function or           assigned to a variable and it will          retain the spacing\n",
      "['BUT', 'it', 'can', 'also', 'still', 'be', 'called', 'by', 'a', 'function', 'or', 'assigned', 'to', 'a', 'variable', 'and', 'it', 'will', 'retain', 'the', 'spacing']\n",
      "['a', 'a', 'also', 'and', 'assigned', 'be', 'BUT', 'by', 'called', 'can', 'function', 'it', 'it', 'or', 'retain', 'spacing', 'still', 'the', 'to', 'variable', 'will']\n"
     ]
    }
   ],
   "source": [
    "'''you can use triple quotes to do the same thing as the # sign for commenting''' \n",
    "words = '''BUT it can         also still be          called by a function or           assigned to a variable and it will          retain the spacing'''\n",
    "\n",
    "print(words)\n",
    "\n",
    "fix_words = words.split() #can also make it a list by splitting... you can separate with no value (.split()) and it will separate on white space'''\n",
    "print(fix_words)\n",
    "\n",
    "# sort_words = sorted(fix_words, key = len, reverse=True) #sorts and prints the created list from longest to shortest\n",
    "# print(sort_words)\n",
    "\n",
    "sort_words = sorted(fix_words, key= str.lower)\n",
    "print(sort_words)\n",
    "\n",
    "#Nugget, you can sort or separate the lists by the new line value\n",
    "\n"
   ]
  },
  {
   "cell_type": "code",
   "execution_count": 34,
   "metadata": {},
   "outputs": [],
   "source": [
    "#Start Day 4 CTF Activities\n",
    "# =================================================================================================================================================================="
   ]
  },
  {
   "cell_type": "code",
   "execution_count": 105,
   "metadata": {},
   "outputs": [
    {
     "data": {
      "text/plain": [
       "{'dan', 'stacy', 'steve', 'tom'}"
      ]
     },
     "execution_count": 105,
     "metadata": {},
     "output_type": "execute_result"
    }
   ],
   "source": [
    "#CTF Activity 24\n",
    "\n",
    "def diffwords(fname, words): #pull in the fname file and the words input passed\n",
    "    with open(fname, 'r') as file_input:    #open fname's file (fname.txt) as \"file_input\"\n",
    "        fname_str = file_input.read()       #Read file_input and make file_input a string\n",
    "        fname_list = fname_str.split()      #Split file_input string up by white space, and make it a list\n",
    "        fname_set = set(fname_list)         #make fname_list a set (fname_set)\n",
    "        words_set = set(words)              #make words input a set (words_set)\n",
    "    return(fname_set.difference(words_set)) #find the difference between the fname and words sets, return as a list\n",
    "diffwords(\"fname.txt\", ['lovelace', 'john', 'bobby'])  #call the function\n",
    "\n",
    "        "
   ]
  },
  {
   "cell_type": "code",
   "execution_count": null,
   "metadata": {},
   "outputs": [],
   "source": [
    "#CTF Activity 25\n",
    "\n",
    "def count_words(filepath): #pull in the filepath argument as a parameter\n",
    "    with open (filepath, 'r') as finput: #pull in a file\n",
    "        finput_str = finput.read()  #read the finput, make it a string\n",
    "        finput_list = finput_str.split() #split the string into a list --This also splits it up to by whitespace (single space)\n",
    "        dict1 = {}    #now I'm creating a dictionary to fill\n",
    "        for words in finput_list: #for each index in the finput list\n",
    "            dict1[words] = finput_list.count(words) #add the words found as keys, then add the quantity of those words as values\n",
    "        return dict1\n",
    "\n",
    "count_words(\"filepath.txt\")"
   ]
  },
  {
   "cell_type": "code",
   "execution_count": 115,
   "metadata": {},
   "outputs": [
    {
     "name": "stdout",
     "output_type": "stream",
     "text": [
      "this is here\n",
      "another argument\n",
      "lottery=10\n",
      "pet_weight=90\n",
      "variable3=50\n"
     ]
    }
   ],
   "source": [
    "#CTF Activity 27\n",
    "\n",
    "def infinitearguments(*another_parm, **this_for_that): #create function infinitearguments with parameters (* equals unknown quantity of inputs, ** equals unkown number of dictionary items)\n",
    "    for i in another_parm: #for each index point in the \"another parm\" variable\n",
    "        print(i) #print the indexed line\n",
    "    for line in sorted(this_for_that.items()):  #sort each item in \"this for that\" alphabetically and place in a line\n",
    "        print(f\"{line[0]}={line[1]}\") # print all the dictionary items from line in the form \"keyword = value .....{line[0]} is the first indexed item in the line (keyword) = {line[2]} which is the second indext item in the line (value)\"\n",
    "infinitearguments(\"this is here\", \"another argument\", lottery = 10, pet_weight = 90, variable3 = 50) \n"
   ]
  }
 ],
 "metadata": {
  "kernelspec": {
   "display_name": "Python 3",
   "language": "python",
   "name": "python3"
  },
  "language_info": {
   "codemirror_mode": {
    "name": "ipython",
    "version": 3
   },
   "file_extension": ".py",
   "mimetype": "text/x-python",
   "name": "python",
   "nbconvert_exporter": "python",
   "pygments_lexer": "ipython3",
   "version": "3.8.10"
  },
  "orig_nbformat": 4,
  "vscode": {
   "interpreter": {
    "hash": "916dbcbb3f70747c44a77c7bcd40155683ae19c65e1c03b4aa3499c5328201f1"
   }
  }
 },
 "nbformat": 4,
 "nbformat_minor": 2
}
