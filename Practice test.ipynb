{
 "cells": [
  {
   "cell_type": "code",
   "execution_count": 12,
   "metadata": {},
   "outputs": [
    {
     "data": {
      "text/plain": [
       "[3.14, 2.2, 4.6, 49.1, 6.9]"
      ]
     },
     "execution_count": 12,
     "metadata": {},
     "output_type": "execute_result"
    }
   ],
   "source": [
    "'''01 - Whatever floats your boat\n",
    "10\n",
    "coding python\n",
    "Given the floatstr, which is a comma separated string of floats, return a list with each of the floats in the argument as elements in the list.'''\n",
    "\n",
    "def q1(floatstr): #create the function name with variable\n",
    "    new_lst = [] # create an empty list for filling\n",
    "    lst = floatstr.split(\",\") #create a list from the list of strings\n",
    "    for i in lst: #for each index item in the list\n",
    "        new_lst.append(float(i)) #Add the float item to the new list\n",
    "    return(new_lst) #return the appended list with floats\n",
    "q1(\"3.14, 2.2, 4.6, 49.1, 6.9\")"
   ]
  },
  {
   "cell_type": "code",
   "execution_count": 15,
   "metadata": {},
   "outputs": [
    {
     "data": {
      "text/plain": [
       "31.86"
      ]
     },
     "execution_count": 15,
     "metadata": {},
     "output_type": "execute_result"
    }
   ],
   "source": [
    "'''02 - Better than average\n",
    "Given the variable length argument list, return the average of all the arguments as a float'''\n",
    "\n",
    "'''Find and return the average of something''' #(https://www.guru99.com/find-average-list-python.html#:~:text=The%20average%20of%20list%20Python,len()%20built%2Din%20function.)\n",
    "# Example to find average of list\n",
    "\n",
    "\n",
    "\n",
    "def q1(*args): #create the function\n",
    "    avg = sum(args)/len(args)  #designate variable \"avg\", set it to equal the sum of the values in \"args\" divided by the len of \"args\"\n",
    "    return (avg) #return avg\n",
    "q1(45, 34, 10, 36, 12, 6, 80)"
   ]
  },
  {
   "cell_type": "code",
   "execution_count": 21,
   "metadata": {},
   "outputs": [
    {
     "data": {
      "text/plain": [
       "[10, 9]"
      ]
     },
     "execution_count": 21,
     "metadata": {},
     "output_type": "execute_result"
    }
   ],
   "source": [
    "'''03 - It's the end that is important'''\n",
    "'''Given a list (lst) and a number of items (n), return a new list containing the last n entries in lst.'''\n",
    "#Get last N elements from a list                                                  #https://www.geeksforgeeks.org/python-get-last-n-elements-from-given-list/\n",
    "\n",
    "\n",
    "\n",
    "def q1(lst,n):\n",
    "    nlst = lst[-n:]\n",
    "    return nlst\n",
    "q1([1, 3, 5, 7, 2, 4, 7, 8, 10, 9], 2)"
   ]
  },
  {
   "cell_type": "code",
   "execution_count": 27,
   "metadata": {},
   "outputs": [
    {
     "data": {
      "text/plain": [
       "[[0, 0, 0, 0]]"
      ]
     },
     "execution_count": 27,
     "metadata": {},
     "output_type": "execute_result"
    }
   ],
   "source": [
    "'''04 - Is there a way to put this into numbers'''\n",
    "'''Given an input string, return a list containing the ordinal numbers of each character in the string in the order found in the input string.'''\n",
    "#find ordinal of characters in a string\n",
    "               #we did this in day 3\n",
    "\n",
    "\n",
    "def q1(strng):\n",
    "    lst = []\n",
    "    for character in strng:\n",
    "        lst.append(ord(character))\n",
    "    return lst\n",
    "q1(\"abce\")\n"
   ]
  },
  {
   "cell_type": "code",
   "execution_count": 28,
   "metadata": {},
   "outputs": [
    {
     "data": {
      "text/plain": [
       "[97, 98, 99, 101]"
      ]
     },
     "execution_count": 28,
     "metadata": {},
     "output_type": "execute_result"
    }
   ],
   "source": []
  }
 ],
 "metadata": {
  "kernelspec": {
   "display_name": "Python 3",
   "language": "python",
   "name": "python3"
  },
  "language_info": {
   "codemirror_mode": {
    "name": "ipython",
    "version": 3
   },
   "file_extension": ".py",
   "mimetype": "text/x-python",
   "name": "python",
   "nbconvert_exporter": "python",
   "pygments_lexer": "ipython3",
   "version": "3.8.10"
  },
  "orig_nbformat": 4,
  "vscode": {
   "interpreter": {
    "hash": "916dbcbb3f70747c44a77c7bcd40155683ae19c65e1c03b4aa3499c5328201f1"
   }
  }
 },
 "nbformat": 4,
 "nbformat_minor": 2
}
