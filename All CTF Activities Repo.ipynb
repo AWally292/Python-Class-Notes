{
 "cells": [
  {
   "cell_type": "code",
   "execution_count": 10,
   "metadata": {},
   "outputs": [
    {
     "name": "stdout",
     "output_type": "stream",
     "text": [
      "30\n",
      "1\n",
      "1.5\n",
      "5\n"
     ]
    }
   ],
   "source": [
    "'''Review Day Notes'''\n",
    "'''====================================================================================================================================='''\n",
    "'''Mathematical Operators'''\n",
    "'''====================================================================================================================================='''\n",
    "\n",
    "'''\n",
    "addition +\n",
    "\n",
    "subtraction -\n",
    "\n",
    "multiplication *\n",
    "\n",
    "division /\n",
    "\n",
    "integer division //\n",
    "\n",
    "modulus %\n",
    "\n",
    "exponent **\n",
    "'''\n",
    "\n",
    "a = 10\n",
    "b = 5\n",
    "c = 15\n",
    "\n",
    "added = (a + b + c)\n",
    "subtracted = a - b - c\n",
    "multiplied = a * b * c\n",
    "integer_division = c//a\n",
    "float_division = c/a\n",
    "modulus = c % a #returns the REMAINDER of the division... so in c(15) % a(10)  that's 1 with a remainder of 5... so that equals 5\n",
    "\n",
    "\n",
    "# print(added)\n",
    "# print(integer_division)\n",
    "# print(float_division)\n",
    "# print(modulus) \n",
    "\n"
   ]
  },
  {
   "cell_type": "code",
   "execution_count": 36,
   "metadata": {},
   "outputs": [
    {
     "name": "stdout",
     "output_type": "stream",
     "text": [
      "['first', 'm', 'last', 'domain', 'com']\n",
      "['last', 'domain']\n"
     ]
    }
   ],
   "source": [
    "'''====================================================================================================================================='''\n",
    "'''Strings'''\n",
    "'''====================================================================================================================================='''\n",
    "\n",
    "word1 = \"Hello\"\n",
    "Word2 = \"Goodbye\"\n",
    "\n",
    "'''formatted strings (f-string)'''\n",
    "sentence1 = f\"{word1}, nice to meet you! {Word2}!\"\n",
    "\n",
    "# print(sentence1)\n",
    "\n",
    "#######     str.methods90     #####\n",
    "    ###UPPERCASE & lowercase###\n",
    "\n",
    "lowercase_word = word1.lower()\n",
    "uppwercase_word = word1.upper()\n",
    "\n",
    "\n",
    "\n",
    "\n",
    "\n",
    "\n",
    "\n"
   ]
  },
  {
   "cell_type": "code",
   "execution_count": 44,
   "metadata": {},
   "outputs": [
    {
     "name": "stdout",
     "output_type": "stream",
     "text": [
      "['last', 'domain']\n",
      "['words', 'are', 'hard']\n",
      "w + o + r + d + s +   + a + r + e +   + h + a + r + d\n",
      "These are the words I need to use\n",
      "['first', 'm', 'last', 'domain', 'com']\n"
     ]
    }
   ],
   "source": [
    "'''====================================================================================================================================='''\n",
    "'''String Methods'''\n",
    "'''====================================================================================================================================='''\n",
    "\n",
    "#######     str.methods90     #####\n",
    "    ###Splitting strings apart \"into a list\"##\n",
    "    ##Syntax Flow: variabe.split(\"thing you want to split on\")\n",
    "\n",
    "# print(sentence1)\n",
    "\n",
    "split_on_spaces = sentence1.split()\n",
    "# print(split_on_spaces)\n",
    "split_on_letter_newline_terminators = sentence1.split(\"\\n\")   #splits on each line\n",
    "# print(split_on_letter_newline_terminators)\n",
    "split_on_letter_e = sentence1.split(\"e\")  #NOTE: .split() REMOVES the character it splits on\n",
    "# print(split_on_letter_e)\n",
    "\n",
    "### Example problem ###\n",
    "\n",
    "\n",
    "\n",
    "#### Slicing ####\n",
    "\n",
    "##Syntax: [START:STOP:STEP] [INCLUDED:EXCLUDED:STEP] **Step is how many spots to skip\n",
    "\n",
    "sliced_list = split_email[1:4] # Only shows the index 1 through 4 positions\n",
    "# print(sliced_list) \n",
    "no_last_index = split_email[:-1] # Returns the beginning of the list and omits the very last\n",
    "# print(no_last_index)\n",
    "last_domain = split_email[2:4]\n",
    "print(last_domain)\n",
    "\n",
    "\n",
    "    ###Joining strings##\n",
    "### Makes a LIST into a STRING ###\n",
    "    ### SYNTAX: \"put what will separate the list elements \".join(variable name here)\n",
    "\n",
    "\n",
    "\n",
    "join_words = \"words are hard\"\n",
    "x = join_words.split() #split string into list elements\n",
    "print (x)\n",
    "\n",
    "join_list = \" + \".join(join_words) #joining the list elements into a string\n",
    "print(join_list)\n",
    "\n",
    "\n",
    "\n",
    "    ###Replacing strings##\n",
    "### Makes a LIST into a STRING ###\n",
    "    ### SYNTAX: \"put what will separate the list elements \".join(variable name here)\n",
    "\n",
    "\n",
    "rep_words = \"These.are.the.words.I.need.to.use\"\n",
    "\n",
    "new_rep = rep_words.replace(\".\", \" \")\n",
    "print(new_rep)\n",
    "\n",
    "\n",
    "email = 'first.m.last@domain.com'\n",
    "replaced_email = email.replace(\"@\", \".\") #Replaces @ with .\n",
    "# print(replaced_email)\n",
    "split_email = replaced_email.split(\".\") #make the string a list, split on the periods\n",
    "print(split_email)\n",
    "\n",
    "### Printing Backwards  ###\n",
    "\n"
   ]
  },
  {
   "cell_type": "code",
   "execution_count": null,
   "metadata": {},
   "outputs": [],
   "source": [
    "'''====================================================================================================================================='''\n",
    "''' Print each entry in a string on an individual line '''' Key Words: Each Character new line\n",
    "'''====================================================================================================================================='''\n",
    "\n",
    "\n",
    "\n",
    "\n"
   ]
  },
  {
   "cell_type": "code",
   "execution_count": 6,
   "metadata": {},
   "outputs": [
    {
     "name": "stdout",
     "output_type": "stream",
     "text": [
      "34\n",
      "fdsa\n",
      "21\n"
     ]
    },
    {
     "data": {
      "text/plain": [
       "'====================================================================================================================================='"
      ]
     },
     "execution_count": 6,
     "metadata": {},
     "output_type": "execute_result"
    }
   ],
   "source": [
    "'''====================================================================================================================================='''\n",
    "'''To get user input'''\n",
    "'''====================================================================================================================================='''\n",
    "\n",
    "user_input = input(\"What is your name?\")   #this will store the input as a string in user_input variable\n",
    "\n",
    "user_input_int = int(input(\"What is your age?\"))  #this will store input as an integer\n",
    "\n",
    "print(user_input)\n",
    "print(user_input_int)\n",
    "\n",
    "\n",
    "'''====================================================================================================================================='''\n",
    "\n",
    "\n",
    "\n",
    "\n",
    "\n",
    "\n",
    "\n",
    "\n",
    "\n",
    "\n",
    "\n",
    "\n",
    "\n",
    "\n",
    "\n",
    "\n",
    "\n"
   ]
  },
  {
   "cell_type": "code",
   "execution_count": null,
   "metadata": {},
   "outputs": [],
   "source": [
    "\n",
    "'''====================================================================================================================================='''\n",
    "'''To get user input'''\n",
    "'''====================================================================================================================================='''"
   ]
  },
  {
   "cell_type": "code",
   "execution_count": null,
   "metadata": {},
   "outputs": [],
   "source": [
    "#CTF Activity 1\n",
    "hello = \"hello\"\n",
    "is_python_awesome = bool(\"x\")\n",
    "days_in_python = 6\n",
    "pie_size = 3.14"
   ]
  },
  {
   "cell_type": "code",
   "execution_count": null,
   "metadata": {},
   "outputs": [],
   "source": [
    "#CTF Activity 2\n",
    "int_input = int(\"345\")\n",
    "pi_4 = float(\"3.1415\")\n",
    "hours_str = str(40)\n",
    "hourly_rate = float(15)"
   ]
  },
  {
   "cell_type": "code",
   "execution_count": null,
   "metadata": {},
   "outputs": [],
   "source": []
  },
  {
   "cell_type": "code",
   "execution_count": null,
   "metadata": {},
   "outputs": [],
   "source": []
  },
  {
   "cell_type": "code",
   "execution_count": null,
   "metadata": {},
   "outputs": [],
   "source": []
  },
  {
   "cell_type": "code",
   "execution_count": null,
   "metadata": {},
   "outputs": [],
   "source": []
  },
  {
   "cell_type": "code",
   "execution_count": null,
   "metadata": {},
   "outputs": [],
   "source": []
  },
  {
   "cell_type": "code",
   "execution_count": null,
   "metadata": {},
   "outputs": [],
   "source": []
  },
  {
   "cell_type": "code",
   "execution_count": null,
   "metadata": {},
   "outputs": [],
   "source": []
  },
  {
   "cell_type": "code",
   "execution_count": null,
   "metadata": {},
   "outputs": [],
   "source": []
  },
  {
   "cell_type": "code",
   "execution_count": null,
   "metadata": {},
   "outputs": [],
   "source": []
  },
  {
   "cell_type": "code",
   "execution_count": null,
   "metadata": {},
   "outputs": [],
   "source": []
  },
  {
   "cell_type": "code",
   "execution_count": null,
   "metadata": {},
   "outputs": [],
   "source": []
  }
 ],
 "metadata": {
  "kernelspec": {
   "display_name": "Python 3",
   "language": "python",
   "name": "python3"
  },
  "language_info": {
   "codemirror_mode": {
    "name": "ipython",
    "version": 3
   },
   "file_extension": ".py",
   "mimetype": "text/x-python",
   "name": "python",
   "nbconvert_exporter": "python",
   "pygments_lexer": "ipython3",
   "version": "3.8.10"
  },
  "orig_nbformat": 4,
  "vscode": {
   "interpreter": {
    "hash": "916dbcbb3f70747c44a77c7bcd40155683ae19c65e1c03b4aa3499c5328201f1"
   }
  }
 },
 "nbformat": 4,
 "nbformat_minor": 2
}
