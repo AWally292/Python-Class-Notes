{
 "cells": [
  {
   "cell_type": "code",
   "execution_count": null,
   "metadata": {},
   "outputs": [],
   "source": [
    "'''\n",
    "VM:\n",
    "\n",
    "https://git.cybbh.space/CCTC/students/-/raw/master/ops_stations/ops_from_snap.yaml\n",
    "\n",
    "https://vta.cybbh.space/horizon/project/stacks/\n",
    "\n",
    "\n",
    "\n",
    "\n",
    "Challenges and Student Guide\n",
    "\n",
    "\n",
    "https://cted.cybbh.io/tech-college/pns/public/pns/latest/guides/fg.html\n",
    "\n",
    "http://10.50.28.198/challenges\n",
    "\n",
    "https://cctc.cybbh.io/students/students/latest/Day_0_Setup.html\n",
    "\n",
    "\n",
    "\n",
    "'''"
   ]
  }
 ],
 "metadata": {
  "kernelspec": {
   "display_name": "Python 3",
   "language": "python",
   "name": "python3"
  },
  "language_info": {
   "name": "python",
   "version": "3.8.10"
  },
  "orig_nbformat": 4,
  "vscode": {
   "interpreter": {
    "hash": "916dbcbb3f70747c44a77c7bcd40155683ae19c65e1c03b4aa3499c5328201f1"
   }
  }
 },
 "nbformat": 4,
 "nbformat_minor": 2
}
