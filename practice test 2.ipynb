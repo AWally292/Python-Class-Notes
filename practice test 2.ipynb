{
 "cells": [
  {
   "cell_type": "code",
   "execution_count": 29,
   "metadata": {},
   "outputs": [
    {
     "data": {
      "text/plain": [
       "'strategy on masterpiece a as accepted is it'"
      ]
     },
     "execution_count": 29,
     "metadata": {},
     "output_type": "execute_result"
    }
   ],
   "source": [
    "'''01 - Mirror mirror'''\n",
    "'''Given a string of multiple words separated by single spaces, return a new string with the sentence reversed. The words themselves should remain as they are.'''\n",
    "\n",
    "'''Google Search Terms \"python return a new string with the sentence reversed\" '''\n",
    "\n",
    "'''Websites    https://www.geeksforgeeks.org/reverse-words-given-string-python/'''\n",
    "\n",
    "'''Key words reverse order of list, turn list into string with join, .join, split, .split'''\n",
    "\n",
    "def q1(sentence): #creating my function container, using \"sentence\" as the parameter holding the argument\n",
    "    lst = sentence.split()  #splitting the words in the sentence variable into a list\n",
    "    rev = lst[::-1] #reverse the entry order of list\n",
    "    return \" \".join(rev)\n",
    "q1(\"it is accepted as a masterpiece on strategy\")\n",
    "\n",
    "#should look like strategy on masterpiece a as accepted is it\n",
    "#returning a new string w/ sentence reverse\n",
    "#BUT the words shouldn't be backwards\n",
    "\n"
   ]
  },
  {
   "cell_type": "code",
   "execution_count": 38,
   "metadata": {},
   "outputs": [
    {
     "data": {
      "text/plain": [
       "'65535.0'"
      ]
     },
     "execution_count": 38,
     "metadata": {},
     "output_type": "execute_result"
    }
   ],
   "source": [
    "'''02 - Sprinkle some commas in there'''\n",
    "'''Given a positive integer, return its string representation with commas separating groups of 3 digits.'''\n",
    "'''Google Search Terms: \"python return string with commas in numbers\" '''\n",
    "\n",
    "'''Websites:  https://www.geeksforgeeks.org/print-number-commas-1000-separators-python/  '''\n",
    "\n",
    "'''Key words: comma separate commas '''\n",
    "\n",
    "def q1(n): #creating my function with a parameter as \"n\"\n",
    "    return f\"{n:,}\" #returning n with commas using innate python....don't ask...don't know\n",
    "q1(65535)\n",
    "\n",
    "                    #f\"{n:.2f}\" use .2f or .5f will make it a float and the number defines how many decimals out it goes"
   ]
  },
  {
   "cell_type": "code",
   "execution_count": 48,
   "metadata": {},
   "outputs": [
    {
     "name": "stdout",
     "output_type": "stream",
     "text": [
      "True\n"
     ]
    }
   ],
   "source": [
    "'''03 - Bring it together and make it pretty'''\n",
    "'''Given two lists of integers, return a sorted list that contains all integers from both lists in descending order.'''\n",
    "'''Google Search Terms \"python return a new string with the sentence reversed\" '''\n",
    "\n",
    "'''Websites    https://www.geeksforgeeks.org/reverse-words-given-string-python/'''\n",
    "\n",
    "'''Key words reverse order of list, turn list into string with join, .join, split, .split'''\n"
   ]
  },
  {
   "cell_type": "code",
   "execution_count": null,
   "metadata": {},
   "outputs": [],
   "source": [
    "'''02 - Sprinkle some commas in there'''\n",
    "'''Given a positive integer, return its string representation with commas seperating groups of 3 digits.'''\n",
    "'''Google Search Terms \"python return a new string with the sentence reversed\" '''\n",
    "\n",
    "'''Websites    https://www.geeksforgeeks.org/reverse-words-given-string-python/'''\n",
    "\n",
    "'''Key words reverse order of list, turn list into string with join, .join, split, .split'''"
   ]
  },
  {
   "cell_type": "code",
   "execution_count": null,
   "metadata": {},
   "outputs": [],
   "source": [
    "'''02 - Sprinkle some commas in there'''\n",
    "'''Given a positive integer, return its string representation with commas seperating groups of 3 digits.'''\n",
    "'''Google Search Terms \"python return a new string with the sentence reversed\" '''\n",
    "\n",
    "'''Websites    https://www.geeksforgeeks.org/reverse-words-given-string-python/'''\n",
    "\n",
    "'''Key words reverse order of list, turn list into string with join, .join, split, .split'''"
   ]
  },
  {
   "cell_type": "code",
   "execution_count": null,
   "metadata": {},
   "outputs": [],
   "source": [
    "'''02 - Sprinkle some commas in there'''\n",
    "'''Given a positive integer, return its string representation with commas seperating groups of 3 digits.'''\n",
    "'''Google Search Terms \"python return a new string with the sentence reversed\" '''\n",
    "\n",
    "'''Websites    https://www.geeksforgeeks.org/reverse-words-given-string-python/'''\n",
    "\n",
    "'''Key words reverse order of list, turn list into string with join, .join, split, .split'''"
   ]
  },
  {
   "cell_type": "code",
   "execution_count": null,
   "metadata": {},
   "outputs": [],
   "source": [
    "'''02 - Sprinkle some commas in there'''\n",
    "'''Given a positive integer, return its string representation with commas seperating groups of 3 digits.'''\n",
    "'''Google Search Terms \"python return a new string with the sentence reversed\" '''\n",
    "\n",
    "'''Websites    https://www.geeksforgeeks.org/reverse-words-given-string-python/'''\n",
    "\n",
    "'''Key words reverse order of list, turn list into string with join, .join, split, .split'''"
   ]
  },
  {
   "cell_type": "code",
   "execution_count": null,
   "metadata": {},
   "outputs": [],
   "source": [
    "'''02 - Sprinkle some commas in there'''\n",
    "'''Given a positive integer, return its string representation with commas seperating groups of 3 digits.'''\n",
    "'''Google Search Terms \"python return a new string with the sentence reversed\" '''\n",
    "\n",
    "'''Websites    https://www.geeksforgeeks.org/reverse-words-given-string-python/'''\n",
    "\n",
    "'''Key words reverse order of list, turn list into string with join, .join, split, .split'''"
   ]
  },
  {
   "cell_type": "code",
   "execution_count": null,
   "metadata": {},
   "outputs": [],
   "source": [
    "'''02 - Sprinkle some commas in there'''\n",
    "'''Given a positive integer, return its string representation with commas seperating groups of 3 digits.'''\n",
    "'''Google Search Terms \"python return a new string with the sentence reversed\" '''\n",
    "\n",
    "'''Websites    https://www.geeksforgeeks.org/reverse-words-given-string-python/'''\n",
    "\n",
    "'''Key words reverse order of list, turn list into string with join, .join, split, .split'''"
   ]
  },
  {
   "cell_type": "code",
   "execution_count": null,
   "metadata": {},
   "outputs": [],
   "source": [
    "'''02 - Sprinkle some commas in there'''\n",
    "'''Given a positive integer, return its string representation with commas seperating groups of 3 digits.'''\n",
    "'''Google Search Terms \"python return a new string with the sentence reversed\" '''\n",
    "\n",
    "'''Websites    https://www.geeksforgeeks.org/reverse-words-given-string-python/'''\n",
    "\n",
    "'''Key words reverse order of list, turn list into string with join, .join, split, .split'''"
   ]
  },
  {
   "cell_type": "code",
   "execution_count": null,
   "metadata": {},
   "outputs": [],
   "source": [
    "'''02 - Sprinkle some commas in there'''\n",
    "'''Given a positive integer, return its string representation with commas seperating groups of 3 digits.'''\n",
    "'''Google Search Terms \"python return a new string with the sentence reversed\" '''\n",
    "\n",
    "'''Websites    https://www.geeksforgeeks.org/reverse-words-given-string-python/'''\n",
    "\n",
    "'''Key words reverse order of list, turn list into string with join, .join, split, .split'''"
   ]
  },
  {
   "cell_type": "code",
   "execution_count": null,
   "metadata": {},
   "outputs": [],
   "source": [
    "'''02 - Sprinkle some commas in there'''\n",
    "'''Given a positive integer, return its string representation with commas seperating groups of 3 digits.'''\n",
    "'''Google Search Terms \"python return a new string with the sentence reversed\" '''\n",
    "\n",
    "'''Websites    https://www.geeksforgeeks.org/reverse-words-given-string-python/'''\n",
    "\n",
    "'''Key words reverse order of list, turn list into string with join, .join, split, .split'''"
   ]
  },
  {
   "cell_type": "code",
   "execution_count": null,
   "metadata": {},
   "outputs": [],
   "source": [
    "'''02 - Sprinkle some commas in there'''\n",
    "'''Given a positive integer, return its string representation with commas seperating groups of 3 digits.'''\n",
    "'''Google Search Terms \"python return a new string with the sentence reversed\" '''\n",
    "\n",
    "'''Websites    https://www.geeksforgeeks.org/reverse-words-given-string-python/'''\n",
    "\n",
    "'''Key words reverse order of list, turn list into string with join, .join, split, .split'''"
   ]
  }
 ],
 "metadata": {
  "kernelspec": {
   "display_name": "Python 3",
   "language": "python",
   "name": "python3"
  },
  "language_info": {
   "codemirror_mode": {
    "name": "ipython",
    "version": 3
   },
   "file_extension": ".py",
   "mimetype": "text/x-python",
   "name": "python",
   "nbconvert_exporter": "python",
   "pygments_lexer": "ipython3",
   "version": "3.11.2"
  },
  "orig_nbformat": 4,
  "vscode": {
   "interpreter": {
    "hash": "a729ac585e6766266d3abc026461d1c51b10b48ff88e8052a60fa7264d936e4a"
   }
  }
 },
 "nbformat": 4,
 "nbformat_minor": 2
}
