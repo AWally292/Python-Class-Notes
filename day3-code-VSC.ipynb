{
 "cells": [
  {
   "cell_type": "code",
   "execution_count": 63,
   "metadata": {},
   "outputs": [
    {
     "name": "stdout",
     "output_type": "stream",
     "text": [
      "<class 'str'>\n"
     ]
    }
   ],
   "source": [
    "file = open(\"waffles.txt\", \"r\")\n",
    "\n",
    "print(type(file.read()))\n",
    "file.close()\n"
   ]
  },
  {
   "cell_type": "code",
   "execution_count": 64,
   "metadata": {},
   "outputs": [
    {
     "name": "stdout",
     "output_type": "stream",
     "text": [
      "this is a line\n",
      "this is line 2\n",
      "waffles are tasty\n",
      "something's wrong here\n",
      "drop_table spend money\n",
      "\n"
     ]
    }
   ],
   "source": [
    "with open(\"waffles.txt\", 'r') as file:\n",
    "    print(file.read())"
   ]
  },
  {
   "cell_type": "code",
   "execution_count": 65,
   "metadata": {},
   "outputs": [
    {
     "name": "stdout",
     "output_type": "stream",
     "text": [
      "this is a l\n"
     ]
    }
   ],
   "source": [
    "with open(\"waffles.txt\", 'r') as file:\n",
    "    print(file.read(11))  #reads out to the 11th position"
   ]
  },
  {
   "cell_type": "code",
   "execution_count": 66,
   "metadata": {},
   "outputs": [
    {
     "name": "stdout",
     "output_type": "stream",
     "text": [
      "['this is a line\\n', 'this is line 2\\n', 'waffles are tasty\\n', \"something's wrong here\\n\", 'drop_table spend money\\n']\n"
     ]
    }
   ],
   "source": [
    "with open(\"waffles.txt\", 'r') as file:\n",
    "    print(file.readlines())  #prints all the lines as a list"
   ]
  },
  {
   "cell_type": "code",
   "execution_count": 67,
   "metadata": {},
   "outputs": [
    {
     "name": "stdout",
     "output_type": "stream",
     "text": [
      "0\n",
      "this \n",
      "5\n",
      "this is a line\n",
      "this is line 2\n",
      "waffles are tasty\n",
      "something's wrong here\n",
      "drop_table spend money\n",
      "\n"
     ]
    }
   ],
   "source": [
    "file = open(\"waffles.txt\", \"r\")\n",
    "print(file.tell())\n",
    "print(file.read(5))\n",
    "print(file.tell())\n",
    "file.seek(0)\n",
    "print(file.read())"
   ]
  },
  {
   "cell_type": "code",
   "execution_count": 68,
   "metadata": {},
   "outputs": [
    {
     "ename": "FileNotFoundError",
     "evalue": "[Errno 2] No such file or directory: 'more_waffles.txt'",
     "output_type": "error",
     "traceback": [
      "\u001b[0;31m---------------------------------------------------------------------------\u001b[0m",
      "\u001b[0;31mFileNotFoundError\u001b[0m                         Traceback (most recent call last)",
      "Cell \u001b[0;32mIn[68], line 1\u001b[0m\n\u001b[0;32m----> 1\u001b[0m \u001b[39mwith\u001b[39;00m \u001b[39mopen\u001b[39m(\u001b[39m\"\u001b[39m\u001b[39mwaffles.txt\u001b[39m\u001b[39m\"\u001b[39m, \u001b[39m'\u001b[39m\u001b[39mr\u001b[39m\u001b[39m'\u001b[39m) \u001b[39mas\u001b[39;00m file, \u001b[39mopen\u001b[39;49m(\u001b[39m'\u001b[39;49m\u001b[39mmore_waffles.txt\u001b[39;49m\u001b[39m'\u001b[39;49m, \u001b[39m'\u001b[39;49m\u001b[39mr+\u001b[39;49m\u001b[39m'\u001b[39;49m) \u001b[39mas\u001b[39;00m out_file:\n\u001b[1;32m      2\u001b[0m     out_file\u001b[39m.\u001b[39mwrite(file\u001b[39m.\u001b[39mread())\n\u001b[1;32m      3\u001b[0m     \u001b[39mprint\u001b[39m(out_file\u001b[39m.\u001b[39mread())\n",
      "File \u001b[0;32m~/.local/lib/python3.8/site-packages/IPython/core/interactiveshell.py:282\u001b[0m, in \u001b[0;36m_modified_open\u001b[0;34m(file, *args, **kwargs)\u001b[0m\n\u001b[1;32m    275\u001b[0m \u001b[39mif\u001b[39;00m file \u001b[39min\u001b[39;00m {\u001b[39m0\u001b[39m, \u001b[39m1\u001b[39m, \u001b[39m2\u001b[39m}:\n\u001b[1;32m    276\u001b[0m     \u001b[39mraise\u001b[39;00m \u001b[39mValueError\u001b[39;00m(\n\u001b[1;32m    277\u001b[0m         \u001b[39mf\u001b[39m\u001b[39m\"\u001b[39m\u001b[39mIPython won\u001b[39m\u001b[39m'\u001b[39m\u001b[39mt let you open fd=\u001b[39m\u001b[39m{\u001b[39;00mfile\u001b[39m}\u001b[39;00m\u001b[39m by default \u001b[39m\u001b[39m\"\u001b[39m\n\u001b[1;32m    278\u001b[0m         \u001b[39m\"\u001b[39m\u001b[39mas it is likely to crash IPython. If you know what you are doing, \u001b[39m\u001b[39m\"\u001b[39m\n\u001b[1;32m    279\u001b[0m         \u001b[39m\"\u001b[39m\u001b[39myou can use builtins\u001b[39m\u001b[39m'\u001b[39m\u001b[39m open.\u001b[39m\u001b[39m\"\u001b[39m\n\u001b[1;32m    280\u001b[0m     )\n\u001b[0;32m--> 282\u001b[0m \u001b[39mreturn\u001b[39;00m io_open(file, \u001b[39m*\u001b[39;49margs, \u001b[39m*\u001b[39;49m\u001b[39m*\u001b[39;49mkwargs)\n",
      "\u001b[0;31mFileNotFoundError\u001b[0m: [Errno 2] No such file or directory: 'more_waffles.txt'"
     ]
    }
   ],
   "source": [
    "with open(\"waffles.txt\", 'r') as file, open('more_waffles.txt', 'r+') as out_file:\n",
    "    out_file.write(file.read())\n",
    "    print(out_file.read())"
   ]
  },
  {
   "cell_type": "code",
   "execution_count": null,
   "metadata": {},
   "outputs": [
    {
     "name": "stdout",
     "output_type": "stream",
     "text": [
      "82\n",
      "5\n"
     ]
    }
   ],
   "source": [
    "num = len(open(\"waffles.txt\").read())\n",
    "num_lines = len(open(\"waffles.txt\").readlines())\n",
    "print(num)\n",
    "print(num_lines)"
   ]
  },
  {
   "cell_type": "code",
   "execution_count": null,
   "metadata": {},
   "outputs": [
    {
     "name": "stdout",
     "output_type": "stream",
     "text": [
      "['a', 'line', 'tasty', 'here', 'money']\n"
     ]
    }
   ],
   "source": [
    "lst = []\n",
    "with open(\"waffles.txt\", 'r') as file:\n",
    "    for line in file:\n",
    "        # print(line)\n",
    "        lst.append(line.split()[2])\n",
    "    print(lst)"
   ]
  },
  {
   "cell_type": "code",
   "execution_count": 89,
   "metadata": {},
   "outputs": [
    {
     "name": "stdout",
     "output_type": "stream",
     "text": [
      "7\n"
     ]
    }
   ],
   "source": [
    "# Importing Modules\n",
    "# lets you bring in other code that someone else created to run\n",
    "import random\n",
    "lst = [1,2,3,4,5,6,7,8,9]\n",
    "print(random.choice(lst))\n",
    "\n",
    "\n",
    "\n"
   ]
  },
  {
   "cell_type": "code",
   "execution_count": 95,
   "metadata": {},
   "outputs": [
    {
     "name": "stdout",
     "output_type": "stream",
     "text": [
      "this was created in __main__\n"
     ]
    }
   ],
   "source": [
    "# print(f'This fine was created in {__name__}')\n",
    "\n",
    "if __name__ == '__China__':\n",
    "    # print(f'this was created in China')\n",
    "    print(f'this was created in {__name__}')\n",
    "else:\n",
    "    print(f'this was created....I guess')\n",
    "    # print(f'this was created in {__name__}')\n"
   ]
  },
  {
   "cell_type": "code",
   "execution_count": 94,
   "metadata": {},
   "outputs": [
    {
     "data": {
      "text/plain": [
       "78.53981633974483"
      ]
     },
     "execution_count": 94,
     "metadata": {},
     "output_type": "execute_result"
    }
   ],
   "source": [
    "import math\n",
    "\n",
    "def getCircleArea(radius):\n",
    "    return math.pi * radius ** 2\n",
    "getCircleArea(5)\n",
    "\n"
   ]
  },
  {
   "cell_type": "code",
   "execution_count": 96,
   "metadata": {},
   "outputs": [
    {
     "name": "stdout",
     "output_type": "stream",
     "text": [
      "78.53981633974483\n"
     ]
    }
   ],
   "source": [
    "if __name__ == '__main__':\n",
    "    number = int(input(\"Enter a number\"))\n",
    "    print(getCircleArea(number))"
   ]
  },
  {
   "cell_type": "code",
   "execution_count": null,
   "metadata": {},
   "outputs": [],
   "source": [
    "#                              START CTF ACTIVITIES\n",
    "#===================================================================================================================================================================================================="
   ]
  },
  {
   "cell_type": "code",
   "execution_count": 71,
   "metadata": {},
   "outputs": [],
   "source": [
    "#CTF 18 Python Activity\n",
    "\n",
    "def linenums(inpath, outpath): #inpath and outpath are the called variables (outside sources) for the function. \n",
    "        with open(inpath, 'r') as source, open(outpath, 'w') as destination: # opening \"inpath\" as the read-only source, then opening \"outpath\" as the write destination\n",
    "            lnum = 1 # define a counter to keep track of the line number, starting with 1\n",
    "            for line in source: # for each 'line' in the source document (inpath)\n",
    "                line = f'{lnum}: {line}' # The line equals function of the string (denoted by the ') created by the combined info.... lnum is line number \": \" line is what's on the line.... so this looks like 1: Text for line 1\n",
    "                destination.write(line) # in the destination (outpath), write the value of line\n",
    "                lnum = lnum +1 # add 1 to the line number counter\n",
    "linenums(\"waffles.txt\", \"extrawaffles.txt\")"
   ]
  },
  {
   "cell_type": "code",
   "execution_count": 78,
   "metadata": {},
   "outputs": [],
   "source": [
    "#CTF 18-1 -- Solving a code in binary written in a source document (fname). Each line of binary was a letter. Have to convert the line from binary to unicode, then unicode to a letter. then take each letter, add to list, join each element of the list to make a string for the phrase.\n",
    "\n",
    "def tough_read(fname): #definition of the function with the variable input \"fname\"\n",
    "    with open (fname, 'r') as source: #opening the variable input \"fname\" as a read-only source\n",
    "        lst = [] #creating a list to put the info in\n",
    "        code = \"\" # creating a variable to put the string in\n",
    "        for line in source: #for every line in the source (fname)\n",
    "            code = lst.append(chr(int(line, base=2))) #this takes each line and converts it to base 2, ensures it's an integer. Then takes the unicode value and makes it a letter. Then it appends the list with the value inside the string variable string.\n",
    "        code = \"\".join(lst) #\"\".join combines the elements of the list into a string with no added spaces/chars. \n",
    "    return code #returns the variable \n"
   ]
  },
  {
   "cell_type": "code",
   "execution_count": null,
   "metadata": {},
   "outputs": [],
   "source": [
    "#CTF Activity 18-2\n",
    "\n",
    "def log_to_file(fname, theme):\n",
    "    with open(fname 'a') as file:\n",
    "        while user_input != \"\":\n",
    "            file.write\n",
    "\n",
    "    \n",
    "    #get each message from user input\n",
    "    #append to fname\n",
    "    #bring in the theme\n",
    "\n",
    "log_to_file()"
   ]
  },
  {
   "cell_type": "code",
   "execution_count": 115,
   "metadata": {},
   "outputs": [],
   "source": [
    "#18-2 alt\n",
    "def log_to_file(fname, theme):\n",
    "    with open (fname, 'a') as source:\n",
    "        user_input = input(\"Enter theme: message\")\n",
    "        while user_input != \"\":\n",
    "            source.write(f'{theme}:{user_input}\\n')\n",
    "            user_input = input(\"Next Entry?\")\n",
    "log_to_file(\"poetry.txt\", \"anguish\")\n",
    "\n",
    "    "
   ]
  },
  {
   "cell_type": "code",
   "execution_count": 82,
   "metadata": {},
   "outputs": [],
   "source": [
    "#CTF 18-3 --\n",
    "\n",
    "def replace_in_file(in_path, out_path, reps):\n",
    "    with open(in_path) as fi, open(out_path, 'w') as fo:\n",
    "        lines = fi.read()\n",
    "        for word in reps:\n",
    "            lines = lines.replace(word[0], word[1])\n",
    "        fo.write(lines)"
   ]
  },
  {
   "cell_type": "code",
   "execution_count": 97,
   "metadata": {},
   "outputs": [],
   "source": [
    "#Ctf activity 19\n",
    "\n",
    "def grab(lst):\n",
    "    import random\n",
    "    return(random.choice(lst))\n"
   ]
  },
  {
   "cell_type": "code",
   "execution_count": 103,
   "metadata": {},
   "outputs": [
    {
     "data": {
      "text/plain": [
       "'11a4a60b518bf24989d481468076e5d5982884626aed9faeb35b8576fcd223e1'"
      ]
     },
     "execution_count": 103,
     "metadata": {},
     "output_type": "execute_result"
    }
   ],
   "source": [
    "#CTF Activity 20 ---Pull this from the documentation in https://docs.python.org/3/library/functions.html#int\n",
    "import hashlib  #import the library\n",
    "def get_hash(data=\"python\"):\n",
    "    m = hashlib.sha3_256()\n",
    "    m.update(data.encode(\"utf-8\"))\n",
    "    return m.hexdigest()\n",
    "get_hash()\n",
    "    "
   ]
  },
  {
   "cell_type": "code",
   "execution_count": 107,
   "metadata": {},
   "outputs": [
    {
     "name": "stdout",
     "output_type": "stream",
     "text": [
      "1\n"
     ]
    }
   ],
   "source": [
    "#CTF Activity 21\n",
    "#Write a script that implements a function, find_product, which takes two numbers and returns the product. Use the name=='__main__' idiom to prompt the user for two integers a print the result of calling find_product using those integers.\n",
    "\n",
    "def find_product(a,b):\n",
    "    return a * b  #does the function multiplication\n",
    "if __name__ == \"__main__\": #if the name of the program is the main program then do below\n",
    "    a = int(input('a')) #input a, converted to integer so it can be multiplied\n",
    "    b = int(input ('b')) #input b, converted to integer so it can be multiplied\n",
    "    print(find_product(a,b)) #printing the function"
   ]
  },
  {
   "cell_type": "code",
   "execution_count": 108,
   "metadata": {},
   "outputs": [],
   "source": [
    "#CTF Activity 22\n",
    "\n",
    "# def round_to_position(lst):\n",
    "#     nlist = []                                        #create the list to fill later\n",
    "#     for index in range(len(lst)):                   finding the length of lst, then finding the range (what brackets it in), then putting that as the index (position)\n",
    "#         nlist.append(round(lst[index], index))            append the new list (nlist)....round the lst item at [index location] with index location number\n",
    "#     return nlist                                          return the value of nlist\n",
    "\n",
    "\n",
    "\n",
    "\n",
    "def round_to_position(lst):\n",
    "    nlist = [] #create the list to fill later\n",
    "    for index in range(len(lst)):\n",
    "        nlist.append(round(lst[index], index))\n",
    "    return nlist"
   ]
  },
  {
   "cell_type": "code",
   "execution_count": 114,
   "metadata": {},
   "outputs": [
    {
     "data": {
      "text/plain": [
       "'integer'"
      ]
     },
     "execution_count": 114,
     "metadata": {},
     "output_type": "execute_result"
    }
   ],
   "source": [
    "#CTF Activity 23\n",
    "\n",
    "def get_type_str(obj):\n",
    "    if type(obj) == str:\n",
    "        return \"string\"\n",
    "    if type(obj) == bool:\n",
    "        return \"boolean\"\n",
    "    if type(obj) == int:\n",
    "        return \"integer\"\n",
    "    if type(obj) == float:\n",
    "        return \"float\"\n",
    "    if type(obj) == list:\n",
    "        return \"list\"\n",
    "    if type(obj) == tuple:\n",
    "        return \"tuple\"\n",
    "    else:\n",
    "        return \"unknown\"\n",
    "get_type_str(3)"
   ]
  }
 ],
 "metadata": {
  "kernelspec": {
   "display_name": "Python 3",
   "language": "python",
   "name": "python3"
  },
  "language_info": {
   "codemirror_mode": {
    "name": "ipython",
    "version": 3
   },
   "file_extension": ".py",
   "mimetype": "text/x-python",
   "name": "python",
   "nbconvert_exporter": "python",
   "pygments_lexer": "ipython3",
   "version": "3.8.10"
  },
  "orig_nbformat": 4,
  "vscode": {
   "interpreter": {
    "hash": "916dbcbb3f70747c44a77c7bcd40155683ae19c65e1c03b4aa3499c5328201f1"
   }
  }
 },
 "nbformat": 4,
 "nbformat_minor": 2
}
