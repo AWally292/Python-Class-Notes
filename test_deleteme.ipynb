{
 "cells": [
  {
   "cell_type": "code",
   "execution_count": 19,
   "metadata": {},
   "outputs": [
    {
     "name": "stdout",
     "output_type": "stream",
     "text": [
      "f.o.o.d. .f.o.r. .a.l.?\n"
     ]
    }
   ],
   "source": [
    "sentence = \"good for all\"\n",
    "sent_list = list(sentence)\n",
    "sent_list[0] = \"f\"\n",
    "sent_list[-1] = \"?\"\n",
    "output = '.'.join(sent_list)\n",
    "print(output)"
   ]
  },
  {
   "cell_type": "code",
   "execution_count": 25,
   "metadata": {},
   "outputs": [
    {
     "name": "stdout",
     "output_type": "stream",
     "text": [
      "3+3+3+3+3+3+3+3+++++3+3+3+3+3+3+3+3+3+3\n"
     ]
    }
   ],
   "source": [
    "                                    #create a user input for taking in numbers and assign it to the variable user_input\n",
    "user_input = input(\"Enter Numbers Here: \")\n",
    "                                    #change all spaces in the entry to a plus sign, print the replacement\n",
    "print(user_input.replace(\" \", \"+\"))\n"
   ]
  },
  {
   "cell_type": "code",
   "execution_count": 39,
   "metadata": {},
   "outputs": [
    {
     "name": "stdout",
     "output_type": "stream",
     "text": [
      "['alan', 'm', 'turing', 'genius', 'com']\n"
     ]
    }
   ],
   "source": [
    "\n",
    "    #Just passing this in to use it for the function\n",
    "email = \"alan.m.turing@genius.com\"\n",
    "                                    #take the variable (email) which was passed to us and use (.replace(\"target\", \"replacement\")) to replace the \"@\" with \".\" to make all the separators the same\n",
    "                                    #then use (.split) to take the data inside the variable (email) and make it a list by splitting it into separate items in the list using the \".\" as the split target\n",
    "lst = email.replace(\"@\", \".\").split(\".\")\n",
    "    #just printing to check it\n",
    "print(lst)\n",
    "\n"
   ]
  },
  {
   "cell_type": "code",
   "execution_count": 7,
   "metadata": {},
   "outputs": [
    {
     "name": "stdout",
     "output_type": "stream",
     "text": [
      "I+am+an+idiot+sandwich\n"
     ]
    }
   ],
   "source": [
    "#ctf practice 6\n",
    "\n",
    "user_input = input(\"Enter Numbers\")\n",
    "print(user_input.replace(\" \", \"+\"))\n",
    "# print(user_input)"
   ]
  },
  {
   "cell_type": "code",
   "execution_count": 6,
   "metadata": {},
   "outputs": [
    {
     "name": "stdout",
     "output_type": "stream",
     "text": [
      "test+this+crap+man\n"
     ]
    }
   ],
   "source": [
    "user_input = input(\"Enter Numbers\")\n",
    "new_input = user_input.replace(\" \", \"+\")\n",
    "print(new_input)"
   ]
  },
  {
   "cell_type": "code",
   "execution_count": 7,
   "metadata": {},
   "outputs": [
    {
     "name": "stdout",
     "output_type": "stream",
     "text": [
      "Zero\n"
     ]
    }
   ],
   "source": [
    "# CTF practice 7\n",
    "\n",
    "user_input = int(input(\"Type Numbers Here: \"))\n",
    "if user_input %2 == 0 and user_input < 0:\n",
    "    print(\"Negative Even\")\n",
    "if user_input %2 and user_input < 0:\n",
    "    print(\"Negative Odd\")\n",
    "if user_input == 0:\n",
    "    print(\"Zero\")\n",
    "if user_input %2 == 0 and user_input > 0:\n",
    "    print(\"Positive Even\")\n",
    "if user_input %2 and user_input > 0:\n",
    "    print(\"Positive Odd\")\n"
   ]
  },
  {
   "cell_type": "code",
   "execution_count": null,
   "metadata": {},
   "outputs": [],
   "source": [
    "# CTF practice 8\n",
    "\n",
    "def domath(a,b,c):\n",
    "    return((a+b)*c)"
   ]
  }
 ],
 "metadata": {
  "kernelspec": {
   "display_name": "Python 3",
   "language": "python",
   "name": "python3"
  },
  "language_info": {
   "codemirror_mode": {
    "name": "ipython",
    "version": 3
   },
   "file_extension": ".py",
   "mimetype": "text/x-python",
   "name": "python",
   "nbconvert_exporter": "python",
   "pygments_lexer": "ipython3",
   "version": "3.8.10"
  },
  "orig_nbformat": 4,
  "vscode": {
   "interpreter": {
    "hash": "916dbcbb3f70747c44a77c7bcd40155683ae19c65e1c03b4aa3499c5328201f1"
   }
  }
 },
 "nbformat": 4,
 "nbformat_minor": 2
}
