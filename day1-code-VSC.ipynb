{
 "cells": [
  {
   "cell_type": "code",
   "execution_count": null,
   "metadata": {},
   "outputs": [],
   "source": [
    "help(str.replace)"
   ]
  },
  {
   "cell_type": "code",
   "execution_count": null,
   "metadata": {},
   "outputs": [],
   "source": [
    "#CTF Activity 1\n",
    "hello = \"hello\"\n",
    "is_python_awesome = bool(\"x\")\n",
    "days_in_python = 6\n",
    "pie_size = 3.14"
   ]
  },
  {
   "cell_type": "code",
   "execution_count": null,
   "metadata": {},
   "outputs": [],
   "source": [
    "#CTF Activity 2\n",
    "int_input = int(\"345\")\n",
    "pi_4 = float(\"3.1415\")\n",
    "hours_str = str(40)\n",
    "hourly_rate = float(15)"
   ]
  },
  {
   "cell_type": "code",
   "execution_count": 1,
   "metadata": {},
   "outputs": [],
   "source": [
    "#CTF Activity 3\n",
    "x = int(16)\n",
    "y = int(3)\n",
    "\n",
    "xysum = int(x+y)\n",
    "xydiff = int(x-y)\n",
    "xyprod = int(x*y)\n",
    "xyquo = float(x/y)\n",
    "xyintquo = x//y\n",
    "xymod = int(x % y)\n"
   ]
  },
  {
   "cell_type": "code",
   "execution_count": null,
   "metadata": {},
   "outputs": [],
   "source": [
    "#CTF Activity 4\n",
    "                                    #create a variable that contains a string called Jerry\n",
    "name = str(\"Jerry\")\n",
    "                                    #create a variable that contains a string called Sir\n",
    "greeting = str(\"Sir\")\n",
    "                                    #create a variable that contains a string called noon\n",
    "time = str(\"noon\")\n",
    "                                    #create a variable named output that contains all the strings put together with text\n",
    "output = f\"Hello {name}! {greeting}, will you be arriving by {time}?\"\n"
   ]
  },
  {
   "cell_type": "code",
   "execution_count": 2,
   "metadata": {},
   "outputs": [
    {
     "name": "stdout",
     "output_type": "stream",
     "text": [
      "f.o.o.d. .f.o.r. .a.l.?\n"
     ]
    }
   ],
   "source": [
    "#CTF Activity 5\n",
    "                                    #create variable named sentence w/value \"good for all\"\n",
    "sentence = \"good for all\" \n",
    "                                     #take the sentence string, convert it to a list, put it in the variable sent_list  \n",
    "sent_list = list(sentence) \n",
    "                                     #Change the first character (index 0 location) to \"f\"\n",
    "sent_list[0] = \"f\"\n",
    "                                     #Change the last character (index -1 location) to \"?\"\n",
    "sent_list[-1] = \"?\"\n",
    "                                    #combine the list back into a string and separate each character by a period. (\".\".join(variable)) and assign it to the variable output\n",
    "output = \".\".join(sent_list)\n",
    "                                    #print is just checking the output\n",
    "print(output)\n",
    "\n"
   ]
  },
  {
   "cell_type": "code",
   "execution_count": 4,
   "metadata": {},
   "outputs": [
    {
     "name": "stdout",
     "output_type": "stream",
     "text": [
      "wallfes+are+great+plus+plus+plus\n"
     ]
    }
   ],
   "source": [
    "#CTF Activity 6\n",
    "                                    #create a user input for taking in numbers and assign it to the variable user_input\n",
    "user_input = input(\"Type here\")\n",
    "                                    #replace the spaces stored in variable \"user_input\" with pluses, store the modifications in \"modified_input\" variable\n",
    "modified_input = user_input.replace(\" \",\"+\")\n",
    "                                    #print the \"modified_input\" variable\n",
    "print(modified_input)"
   ]
  },
  {
   "cell_type": "code",
   "execution_count": 5,
   "metadata": {},
   "outputs": [
    {
     "name": "stdout",
     "output_type": "stream",
     "text": [
      "test+test+test+test\n"
     ]
    }
   ],
   "source": [
    "#CTF Activity 6\n",
    "                                    #create a user input for taking in numbers and assign it to the variable user_input\n",
    "user_input = input(\"Enter Numbers Here: \")\n",
    "                                    #change all spaces in the entry to a plus sign, print the replacement\n",
    "print(user_input.replace(\" \", \"+\"))"
   ]
  },
  {
   "cell_type": "code",
   "execution_count": 7,
   "metadata": {},
   "outputs": [
    {
     "name": "stdout",
     "output_type": "stream",
     "text": [
      "['alan', 'm', 'turing', 'genious', 'com']\n"
     ]
    }
   ],
   "source": [
    "#CTF Activity 00 - Mailbox Maintenance\n",
    "email = \"alan.m.turing@genious.com\"\n",
    "lst = email.replace(\"@\", \".\").split(\".\")\n",
    "print(lst)"
   ]
  },
  {
   "cell_type": "code",
   "execution_count": 22,
   "metadata": {},
   "outputs": [
    {
     "name": "stdout",
     "output_type": "stream",
     "text": [
      "[\"['alan\", 'm', \"turing', 'genius\", \"com']\"]\n"
     ]
    }
   ],
   "source": [
    "#CTF Activity 00 - Mailbox Maintenance (alternative only splits)\n",
    "email = \"alan.m.turing@genius.com\"\n",
    "lst = email.split(\"@\")\n",
    "lst1 = str(lst)\n",
    "lst1 = lst1.split(\".\")\n",
    "print(lst1)"
   ]
  }
 ],
 "metadata": {
  "kernelspec": {
   "display_name": "Python 3",
   "language": "python",
   "name": "python3"
  },
  "language_info": {
   "codemirror_mode": {
    "name": "ipython",
    "version": 3
   },
   "file_extension": ".py",
   "mimetype": "text/x-python",
   "name": "python",
   "nbconvert_exporter": "python",
   "pygments_lexer": "ipython3",
   "version": "3.8.10"
  },
  "orig_nbformat": 4,
  "vscode": {
   "interpreter": {
    "hash": "916dbcbb3f70747c44a77c7bcd40155683ae19c65e1c03b4aa3499c5328201f1"
   }
  }
 },
 "nbformat": 4,
 "nbformat_minor": 2
}
