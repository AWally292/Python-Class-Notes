{
 "cells": [
  {
   "cell_type": "code",
   "execution_count": null,
   "metadata": {},
   "outputs": [],
   "source": [
    "help(str.replace)"
   ]
  },
  {
   "cell_type": "code",
   "execution_count": null,
   "metadata": {},
   "outputs": [],
   "source": [
    "#CTF Activity 1\n",
    "hello = \"hello\"\n",
    "is_python_awesome = bool(\"x\")\n",
    "days_in_python = 6\n",
    "pie_size = 3.14"
   ]
  },
  {
   "cell_type": "code",
   "execution_count": null,
   "metadata": {},
   "outputs": [],
   "source": [
    "#CTF Activity 2\n",
    "int_input = int(\"345\")\n",
    "pi_4 = float(\"3.1415\")\n",
    "hours_str = str(40)\n",
    "hourly_rate = float(15)"
   ]
  },
  {
   "cell_type": "code",
   "execution_count": 1,
   "metadata": {},
   "outputs": [],
   "source": [
    "#CTF Activity 3\n",
    "x = int(16)\n",
    "y = int(3)\n",
    "\n",
    "xysum = int(x+y)\n",
    "xydiff = int(x-y)\n",
    "xyprod = int(x*y)\n",
    "xyquo = float(x/y)\n",
    "xyintquo = x//y\n",
    "xymod = int(x % y)\n"
   ]
  },
  {
   "cell_type": "code",
   "execution_count": null,
   "metadata": {},
   "outputs": [],
   "source": [
    "#CTF Activity 4\n",
    "name = str(\"Jerry\")\n",
    "greeting = str(\"Sir\")\n",
    "time = str(\"noon\")\n",
    "\n",
    "output = f\"Hello {name}! {greeting}, will you be arriving by {time}?\"\n"
   ]
  },
  {
   "cell_type": "code",
   "execution_count": null,
   "metadata": {},
   "outputs": [],
   "source": [
    "#CTF Activity 5\n",
    "sentence = \"good for all\"  #create variable named sentence w/value \"good for all\"\n",
    "sent_list = list(sentence)\n",
    "sent_list[0] = \"f\"\n",
    "sent_list[-1] = \"?\"\n",
    "output = \".\".join(sent_list)\n",
    "print(output)\n",
    "\n"
   ]
  },
  {
   "cell_type": "code",
   "execution_count": 4,
   "metadata": {},
   "outputs": [
    {
     "name": "stdout",
     "output_type": "stream",
     "text": [
      "wallfes+are+great+plus+plus+plus\n"
     ]
    }
   ],
   "source": [
    "#CTF Activity 6\n",
    "user_input = input(\"Type here\")\n",
    "modified_input = user_input.replace(\" \",\"+\")\n",
    "print(modified_input)"
   ]
  },
  {
   "cell_type": "code",
   "execution_count": 5,
   "metadata": {},
   "outputs": [
    {
     "name": "stdout",
     "output_type": "stream",
     "text": [
      "test+test+test+test\n"
     ]
    }
   ],
   "source": [
    "#CTF Activity 6\n",
    "user_input = input(\"Type here\")\n",
    "print(user_input.replace(\" \",\"+\"))"
   ]
  },
  {
   "cell_type": "code",
   "execution_count": 7,
   "metadata": {},
   "outputs": [
    {
     "name": "stdout",
     "output_type": "stream",
     "text": [
      "['alan', 'm', 'turing', 'genious', 'com']\n"
     ]
    }
   ],
   "source": [
    "#CTF Activity 00 - Mailbox Maintenance\n",
    "email = \"alan.m.turing@genious.com\"\n",
    "lst = email.replace(\"@\", \".\").split(\".\")\n",
    "print(lst)"
   ]
  },
  {
   "cell_type": "code",
   "execution_count": 22,
   "metadata": {},
   "outputs": [
    {
     "name": "stdout",
     "output_type": "stream",
     "text": [
      "[\"['alan\", 'm', \"turing', 'genius\", \"com']\"]\n"
     ]
    }
   ],
   "source": [
    "#CTF Activity 00 - Mailbox Maintenance (alternative only splits)\n",
    "email = \"alan.m.turing@genius.com\"\n",
    "lst = email.split(\"@\")\n",
    "lst1 = str(lst)\n",
    "lst1 = lst1.split(\".\")\n",
    "print(lst1)"
   ]
  }
 ],
 "metadata": {
  "kernelspec": {
   "display_name": "Python 3",
   "language": "python",
   "name": "python3"
  },
  "language_info": {
   "codemirror_mode": {
    "name": "ipython",
    "version": 3
   },
   "file_extension": ".py",
   "mimetype": "text/x-python",
   "name": "python",
   "nbconvert_exporter": "python",
   "pygments_lexer": "ipython3",
   "version": "3.8.10"
  },
  "orig_nbformat": 4,
  "vscode": {
   "interpreter": {
    "hash": "916dbcbb3f70747c44a77c7bcd40155683ae19c65e1c03b4aa3499c5328201f1"
   }
  }
 },
 "nbformat": 4,
 "nbformat_minor": 2
}
